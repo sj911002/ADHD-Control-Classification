{
  "nbformat": 4,
  "nbformat_minor": 0,
  "metadata": {
    "colab": {
      "name": "EEG_Data_for_ADHD/Control_Children.ipynb",
      "provenance": [],
      "collapsed_sections": []
    },
    "kernelspec": {
      "name": "python3",
      "display_name": "Python 3"
    },
    "language_info": {
      "name": "python"
    }
  },
  "cells": [
    {
      "cell_type": "markdown",
      "metadata": {
        "id": "jyPHH_H5KZGu"
      },
      "source": [
        "# EEG Classification of ADHD and Control(Normal) Children"
      ]
    },
    {
      "cell_type": "markdown",
      "metadata": {
        "id": "So0X33cIN3wX"
      },
      "source": [
        "**Aim:**\n",
        "In this notebook we aim to classify ADHD and normal children (binary classification task) based on EEG recordings. \n",
        "\n",
        "\n",
        "Dataset link: https://ieee-dataport.org/open-access/eeg-data-adhd-control-children <br>\n",
        "Done by: Shania Job (19pd32)"
      ]
    },
    {
      "cell_type": "markdown",
      "metadata": {
        "id": "CS9kqiwlNI7O"
      },
      "source": [
        "#Contents \n",
        "\n",
        "1. Understanding and preprocessing the data\n",
        "2. Visualization and Analysis of the data\n",
        "3. Modelling (using in-built libraries)\n",
        "4. Evaluation metrics "
      ]
    },
    {
      "cell_type": "code",
      "metadata": {
        "id": "wVawY8HsOWjr"
      },
      "source": [
        "def warn(*args, **kwargs):\n",
        "    pass\n",
        "import warnings\n",
        "warnings.warn = warn"
      ],
      "execution_count": null,
      "outputs": []
    },
    {
      "cell_type": "code",
      "metadata": {
        "colab": {
          "base_uri": "https://localhost:8080/"
        },
        "id": "Jc22dOk-xUGb",
        "outputId": "3ff089ce-2f50-4d2e-c1c2-475007cfd09c"
      },
      "source": [
        "!pip install mne"
      ],
      "execution_count": null,
      "outputs": [
        {
          "output_type": "stream",
          "name": "stdout",
          "text": [
            "Collecting mne\n",
            "  Downloading mne-0.24.0-py3-none-any.whl (7.4 MB)\n",
            "\u001b[K     |████████████████████████████████| 7.4 MB 28.5 MB/s \n",
            "\u001b[?25hRequirement already satisfied: numpy>=1.15.4 in /usr/local/lib/python3.7/dist-packages (from mne) (1.19.5)\n",
            "Requirement already satisfied: scipy>=1.1.0 in /usr/local/lib/python3.7/dist-packages (from mne) (1.4.1)\n",
            "Installing collected packages: mne\n",
            "Successfully installed mne-0.24.0\n"
          ]
        }
      ]
    },
    {
      "cell_type": "code",
      "metadata": {
        "id": "NSKWdyueNv1c"
      },
      "source": [
        "# Importing the necessary libararies\n",
        "import os\n",
        "import random\n",
        "\n",
        "import mne\n",
        "import scipy.io\n",
        "import numpy as np\n",
        "import pandas as pd\n",
        "import seaborn as sns\n",
        "import matplotlib.pyplot as plt\n",
        "\n",
        "from scipy.spatial import ConvexHull\n",
        "\n",
        "from sklearn.preprocessing import StandardScaler\n",
        "from sklearn.model_selection import train_test_split\n",
        "from sklearn.model_selection import StratifiedKFold, cross_val_score, GridSearchCV\n",
        "\n",
        "from sklearn.linear_model import Perceptron \n",
        "from sklearn.linear_model import LogisticRegression\n",
        "from sklearn.neighbors import KNeighborsClassifier\n",
        "from sklearn.naive_bayes import GaussianNB\n",
        "from sklearn.tree import DecisionTreeClassifier\n",
        "from sklearn.ensemble import RandomForestClassifier\n",
        "from sklearn.svm import SVC\n",
        "from sklearn.cluster import KMeans\n",
        "from sklearn.decomposition import PCA\n",
        "\n",
        "from sklearn import metrics\n",
        "from sklearn.metrics import mutual_info_score\n",
        "from sklearn.metrics import accuracy_score, precision_score, recall_score, f1_score, confusion_matrix, accuracy_score, classification_report"
      ],
      "execution_count": null,
      "outputs": []
    },
    {
      "cell_type": "markdown",
      "metadata": {
        "id": "HxihrpZoN1Xn"
      },
      "source": [
        "## Understanding and preprocessing the data"
      ]
    },
    {
      "cell_type": "markdown",
      "metadata": {
        "id": "3jpiJEHOP1hH"
      },
      "source": [
        "The aim of the project is to classify between ADHD children and normal children based on the EEG recordings.The entire data is sectioned into 4 parts i.e. ADHD_part1, ADHD_part2, Control_part1 and Control_part2. Each part consists of many .mat files where each .mat file corresponds to a person's EEG data. "
      ]
    },
    {
      "cell_type": "code",
      "metadata": {
        "id": "LO5FaTZWR5gI"
      },
      "source": [
        "# Walk through each directory and find out how many files are present in each subdirectory.\n",
        "def walk_through_dir(dir_path):\n",
        "  \"\"\"\n",
        "  Walks through dir_path returning its contents.\n",
        "  Args:\n",
        "    dir_path (str): target directory\n",
        "  \n",
        "  Returns:\n",
        "    A print out of:\n",
        "      number of subdiretories in dir_path\n",
        "      number of images (files) in each subdirectory\n",
        "      name of each subdirectory\n",
        "  \"\"\"\n",
        "  for dirpath, dirnames, filenames in os.walk(dir_path):\n",
        "    print(f\"There are {len(dirnames)} directories and {len(filenames)} files in '{dirpath}'.\")"
      ],
      "execution_count": null,
      "outputs": []
    },
    {
      "cell_type": "code",
      "metadata": {
        "colab": {
          "base_uri": "https://localhost:8080/"
        },
        "id": "Un3EhYCtTSHR",
        "outputId": "52823a4a-ac5d-4ca8-af62-f7b28ffb745c"
      },
      "source": [
        "walk_through_dir('/content/drive/MyDrive/EEG_data')"
      ],
      "execution_count": null,
      "outputs": [
        {
          "output_type": "stream",
          "name": "stdout",
          "text": [
            "There are 4 directories and 2 files in '/content/drive/MyDrive/EEG_data'.\n",
            "There are 0 directories and 30 files in '/content/drive/MyDrive/EEG_data/Control_part2'.\n",
            "There are 0 directories and 30 files in '/content/drive/MyDrive/EEG_data/Control_part1'.\n",
            "There are 0 directories and 31 files in '/content/drive/MyDrive/EEG_data/ADHD_part2'.\n",
            "There are 0 directories and 30 files in '/content/drive/MyDrive/EEG_data/ADHD_part1'.\n"
          ]
        }
      ]
    },
    {
      "cell_type": "markdown",
      "metadata": {
        "id": "Fmoslpo5Tb46"
      },
      "source": [
        "Therefore we can see there that in total there are 61 ADHD .mat files (61 ADHD children reports) and 60 normal .mat files (60 normal children reports) which are equally distributed under 2 parts."
      ]
    },
    {
      "cell_type": "code",
      "metadata": {
        "id": "Fb1Rqx1bVEep"
      },
      "source": [
        "# Viewing contents of the .mat files \n",
        "def view_random_file_contents(target_dir, target_class):\n",
        "  # Setup target directory \n",
        "  target_folder = target_dir + target_class\n",
        "\n",
        "  # Get a random file path\n",
        "  random_file = random.sample(os.listdir(target_folder), 1)\n",
        "  \n",
        "  contents = scipy.io.loadmat(target_folder + random_file[0])\n",
        "  print(\"------------------------------\")\n",
        "  print(\"Directory: \", target_folder)\n",
        "  print(contents)\n",
        "  print(\"------------------------------\")"
      ],
      "execution_count": null,
      "outputs": []
    },
    {
      "cell_type": "code",
      "metadata": {
        "colab": {
          "base_uri": "https://localhost:8080/"
        },
        "id": "I_qUhps0VFzv",
        "outputId": "0c987bd4-d842-46f3-8242-9c80e4888325"
      },
      "source": [
        "target_dir = \"/content/drive/MyDrive/EEG_data/\"\n",
        "target_class = [\"ADHD_part1/\", \"ADHD_part2/\", \"Control_part1/\", \"Control_part2/\"]\n",
        "random_contents = []\n",
        "for i in range(len(target_class)):\n",
        "  view_random_file_contents(target_dir=target_dir, target_class=target_class[i])"
      ],
      "execution_count": null,
      "outputs": [
        {
          "output_type": "stream",
          "name": "stdout",
          "text": [
            "------------------------------\n",
            "Directory:  /content/drive/MyDrive/EEG_data/ADHD_part1/\n",
            "{'__header__': b'MATLAB 5.0 MAT-file, Platform: PCWIN64, Created on: Sun Apr 12 15:32:41 2020', '__version__': '1.0', '__globals__': [], 'v31p': array([[-195, -336,   89, ...,  121, -266,  226],\n",
            "       [-371, -442,  -94, ...,  -19, -336,  121],\n",
            "       [-442, -407, -167, ..., -195, -407,   50],\n",
            "       ...,\n",
            "       [ -90,  156,   16, ...,  -55,  191,   50],\n",
            "       [ -90,   85,   16, ...,   85,  191,   85],\n",
            "       [  85,  121,  200, ...,  156,  121,   85]], dtype=int16)}\n",
            "------------------------------\n",
            "------------------------------\n",
            "Directory:  /content/drive/MyDrive/EEG_data/ADHD_part2/\n",
            "{'__header__': b'MATLAB 5.0 MAT-file, Platform: PCWIN64, Created on: Sun Apr 12 15:32:37 2020', '__version__': '1.0', '__globals__': [], 'v213': array([[-19,  85, -20, ...,  15,  50, 156],\n",
            "       [297, 121, 457, ..., 437, -55,  50],\n",
            "       [297,  85, 457, ..., 297, -90, -19],\n",
            "       ...,\n",
            "       [297, 261, 347, ..., 297, 156, 156],\n",
            "       [261, 261, 273, ..., 226, 156, 156],\n",
            "       [261, 191, 310, ..., 261, 226, 226]], dtype=int16)}\n",
            "------------------------------\n",
            "------------------------------\n",
            "Directory:  /content/drive/MyDrive/EEG_data/Control_part1/\n",
            "{'__header__': b'MATLAB 5.0 MAT-file, Platform: PCWIN64, Created on: Sun Apr 12 15:36:37 2020', '__version__': '1.0', '__globals__': [], 'v111': array([[  85.,  121.,  -20., ..., 4802.,   -0.,   -0.],\n",
            "       [ -19.,  121., -204., ...,  -90.,   15., -653.],\n",
            "       [ -19.,   50.,  -94., ...,   15.,  -19., -266.],\n",
            "       ...,\n",
            "       [-301., -688., -388., ...,  -90., -864., -266.],\n",
            "       [-231., -688., -204., ..., -336., -759.,  -19.],\n",
            "       [-301., -547., -167., ..., -195., -653., -160.]])}\n",
            "------------------------------\n",
            "------------------------------\n",
            "Directory:  /content/drive/MyDrive/EEG_data/Control_part2/\n",
            "{'__header__': b'MATLAB 5.0 MAT-file, Platform: PCWIN64, Created on: Sun Apr 12 15:36:39 2020', '__version__': '1.0', '__globals__': [], 'v127': array([[156,  50,  89, ..., 191, 121, 191],\n",
            "       [121, 191,  89, ..., 156, 121, 156],\n",
            "       [ 50, 261,  52, ...,  50, 191, 226],\n",
            "       ...,\n",
            "       [226, 191, 273, ..., 191, 121, 121],\n",
            "       [121, -19, 126, ..., 121,  50, 191],\n",
            "       [ 85,  15,  89, ...,  85,  85, 156]], dtype=int16)}\n",
            "------------------------------\n"
          ]
        }
      ]
    },
    {
      "cell_type": "markdown",
      "metadata": {
        "id": "0ZHSW68AFRuA"
      },
      "source": [
        "As we can see each .mat file is stored as a dictionary. Now we will look at a particular .mat file under each subdirectory. "
      ]
    },
    {
      "cell_type": "code",
      "metadata": {
        "colab": {
          "base_uri": "https://localhost:8080/"
        },
        "id": "APld-fMmXuuL",
        "outputId": "93247ae5-77d9-4400-9fd7-7fc0eda9fde1"
      },
      "source": [
        "# A random .mat file under adhd_part2 directory.\n",
        "file = random.sample(os.listdir(target_dir + target_class[1]), 1)\n",
        "adhd_contents = scipy.io.loadmat(target_dir + target_class[1] + file[0])\n",
        "adhd_contents  "
      ],
      "execution_count": null,
      "outputs": [
        {
          "output_type": "execute_result",
          "data": {
            "text/plain": [
              "{'__globals__': [],\n",
              " '__header__': b'MATLAB 5.0 MAT-file, Platform: PCWIN64, Created on: Sun Apr 12 15:32:37 2020',\n",
              " '__version__': '1.0',\n",
              " 'v215': array([[ 191, -371,  200, ...,  226, 4802, 4802],\n",
              "        [ 261,   15,  273, ...,  261,  297,  226],\n",
              "        [ 261,   50,  347, ...,  297,  226,   85],\n",
              "        ...,\n",
              "        [ 156,  121,  163, ...,  121,   85,  226],\n",
              "        [  50,  121,   89, ...,  191,   50,  261],\n",
              "        [ 226,   85,  200, ...,  261,   50,  332]], dtype=int16)}"
            ]
          },
          "metadata": {},
          "execution_count": 8
        }
      ]
    },
    {
      "cell_type": "code",
      "metadata": {
        "colab": {
          "base_uri": "https://localhost:8080/"
        },
        "id": "oTGWW7LbYNLp",
        "outputId": "e87f3465-acf8-4cd9-ebbd-189466821ca0"
      },
      "source": [
        "print(adhd_contents['v215'])\n",
        "print(f\"Number of rows: {len(adhd_contents['v215'])}\")\n",
        "print(f\"Number of columns: {len(adhd_contents['v215'][0])}\")"
      ],
      "execution_count": null,
      "outputs": [
        {
          "output_type": "stream",
          "name": "stdout",
          "text": [
            "[[ 191 -371  200 ...  226 4802 4802]\n",
            " [ 261   15  273 ...  261  297  226]\n",
            " [ 261   50  347 ...  297  226   85]\n",
            " ...\n",
            " [ 156  121  163 ...  121   85  226]\n",
            " [  50  121   89 ...  191   50  261]\n",
            " [ 226   85  200 ...  261   50  332]]\n",
            "Number of rows: 21372\n",
            "Number of columns: 19\n"
          ]
        }
      ]
    },
    {
      "cell_type": "code",
      "metadata": {
        "colab": {
          "base_uri": "https://localhost:8080/"
        },
        "id": "epeRlwSaYb51",
        "outputId": "d23d1023-2408-467a-95fb-d10e2fe0d991"
      },
      "source": [
        "# A random .mat file under control_part2 directory.\n",
        "file = random.sample(os.listdir(target_dir + target_class[3]), 1)\n",
        "normal_contents = scipy.io.loadmat(target_dir + target_class[3] + file[0])\n",
        "normal_contents "
      ],
      "execution_count": null,
      "outputs": [
        {
          "output_type": "execute_result",
          "data": {
            "text/plain": [
              "{'__globals__': [],\n",
              " '__header__': b'MATLAB 5.0 MAT-file, Platform: PCWIN64, Created on: Sun Apr 12 15:36:40 2020',\n",
              " '__version__': '1.0',\n",
              " 'v297': array([[  156.,   121.,    89., ...,    85.,   121.,   226.],\n",
              "        [  191.,   191.,    89., ...,   121.,   121.,    15.],\n",
              "        [  261.,   297.,   200., ...,    50.,   191.,   121.],\n",
              "        ...,\n",
              "        [-1111.,    85.,  -867., ...,  -970.,  -266.,  -829.],\n",
              "        [-1075.,    15.,  -719., ...,  -477.,  -231.,  -759.],\n",
              "        [-1251.,  -160.,  -719., ...,  -583.,  -231.,  -618.]])}"
            ]
          },
          "metadata": {},
          "execution_count": 10
        }
      ]
    },
    {
      "cell_type": "code",
      "metadata": {
        "colab": {
          "base_uri": "https://localhost:8080/"
        },
        "id": "UydCIzzSaRcA",
        "outputId": "f36086f3-9783-4613-e109-7dd7d81de755"
      },
      "source": [
        "print(normal_contents['v297'])\n",
        "print(f\"Number of rows: {len(normal_contents['v297'])}\")\n",
        "print(f\"Number of columns: {len(normal_contents['v297'][0])}\")"
      ],
      "execution_count": null,
      "outputs": [
        {
          "output_type": "stream",
          "name": "stdout",
          "text": [
            "[[  156.   121.    89. ...    85.   121.   226.]\n",
            " [  191.   191.    89. ...   121.   121.    15.]\n",
            " [  261.   297.   200. ...    50.   191.   121.]\n",
            " ...\n",
            " [-1111.    85.  -867. ...  -970.  -266.  -829.]\n",
            " [-1075.    15.  -719. ...  -477.  -231.  -759.]\n",
            " [-1251.  -160.  -719. ...  -583.  -231.  -618.]]\n",
            "Number of rows: 13697\n",
            "Number of columns: 19\n"
          ]
        }
      ]
    },
    {
      "cell_type": "markdown",
      "metadata": {
        "id": "DOkEjfJRaaYW"
      },
      "source": [
        "From the above 4 cells we can see that there are a total of 19 columns which corresponds to the 19 channels (features) which were used to perform the EEG recordings. Since one of the deficits in ADHD children is visual attention, the EEG recording protocol was based on ***visual attention tasks***. \n",
        "<br><br>\n",
        "In the task, a set of pictures of cartoon characters was shown to the children and they were asked to count the characters. The number of characters in each image was randomly selected between 5 and 16, and the size of the pictures was large enough to be easily visible and countable by children. \n",
        "<br><br>\n",
        "The number of images shown to a child during the recording experiment is not a fixed value. To have a continuous stimulus during the signal recording, each image was displayed immediately and uninterrupted after the child’s response.  Due to this reason we see that every .mat file (a child's data) contains rows, where each row indicates the different readings. \n",
        "<br><br> \n",
        "Note: The experiment does not specify that every child was displayed an image for a fixed amount of time, it is mentioned that each image was displayed immediately and uniterrupted after a child's response. Therefore, it's safe to conclude that children with high response speed (to complete the task of counting characters in an image) would have been subjected to a larger number of pictures than children with a slower response speed. This also explains the variable number of rows present for each child."
      ]
    },
    {
      "cell_type": "markdown",
      "metadata": {
        "id": "BNymp1LSe_NU"
      },
      "source": [
        "### Preprocessing:"
      ]
    },
    {
      "cell_type": "markdown",
      "metadata": {
        "id": "kGMEoBHffFjB"
      },
      "source": [
        "#### **Step 1:** Finding the minimum of all the row sizes "
      ]
    },
    {
      "cell_type": "code",
      "metadata": {
        "id": "opdtxjL3gR1l"
      },
      "source": [
        "def getList(dictionary):\n",
        "  \"\"\"\n",
        "  Takes a dictionary and returns dictionary keys as a list\n",
        "  \"\"\"\n",
        "  return list(dictionary.keys())\n",
        "      \n",
        "def num_of_rows(target_folder):\n",
        "  \"\"\" \n",
        "  Read every .mat file sequentially and find the number of rows in each .mat file\n",
        "  \"\"\"\n",
        "  num_of_rows = []\n",
        "  for data_file in sorted(os.listdir(target_folder)):\n",
        "      child_data = scipy.io.loadmat(target_folder + data_file)\n",
        "      dictionary_keys = getList(child_data)\n",
        "      num_rows.append(len(child_data[dictionary_keys[3]]))\n",
        "  return num_rows"
      ],
      "execution_count": null,
      "outputs": []
    },
    {
      "cell_type": "code",
      "metadata": {
        "colab": {
          "base_uri": "https://localhost:8080/"
        },
        "id": "1vLlcjw1jJKd",
        "outputId": "7bb4e32f-de86-4ff5-efe3-f402cc6da346"
      },
      "source": [
        "row_sizes = []\n",
        "num_rows = []\n",
        "for i in range(len(target_class)):\n",
        "  folder = target_dir + target_class[i]\n",
        "  num_rows = num_of_rows(folder)\n",
        "  row_sizes.append(num_rows)\n",
        "\n",
        "row_sizes = list(np.concatenate(row_sizes).flat)\n",
        "print(\"Minimum number of rows present: \", min(row_sizes))"
      ],
      "execution_count": null,
      "outputs": [
        {
          "output_type": "stream",
          "name": "stdout",
          "text": [
            "Minimum number of rows present:  7983\n"
          ]
        }
      ]
    },
    {
      "cell_type": "markdown",
      "metadata": {
        "id": "4iXGZxMWnRH1"
      },
      "source": [
        "Now we will consider only 7983 rows of every .mat file"
      ]
    },
    {
      "cell_type": "markdown",
      "metadata": {
        "id": "6fUz5AQzoj7T"
      },
      "source": [
        "#### **Step 2:** Converting every file into a min_rows x d matrix where d = 19 (features) "
      ]
    },
    {
      "cell_type": "code",
      "metadata": {
        "id": "lqS9-iMAqJW7"
      },
      "source": [
        "adhd_part1 = []\n",
        "adhd_part2 = []\n",
        "control_part1 = []\n",
        "control_part2 = []\n",
        "\n",
        "\n",
        "def convert_to_matrix(target_folder):\n",
        "  \"\"\"\n",
        "  Takes the target folder and reads every .mat file and uses only the first 7983 rows of each .mat file.\n",
        "  Returns a list of min_rows x d matrix computed for every child as an array of 'n' elements where each element represents a child's data\n",
        "  \"\"\"\n",
        "  matrices = []\n",
        "  for data_file in sorted(os.listdir(target_folder)):\n",
        "    child_data = scipy.io.loadmat(target_folder + data_file)\n",
        "    dictionary_keys = getList(child_data)\n",
        "    child_array = np.array(child_data[dictionary_keys[3]][0:7983])\n",
        "    child_array = child_array.astype('float64')\n",
        "    matrices.append(child_array)\n",
        "  return matrices"
      ],
      "execution_count": null,
      "outputs": []
    },
    {
      "cell_type": "code",
      "metadata": {
        "id": "Uy1uenPBs1AP"
      },
      "source": [
        "folder = target_dir + target_class[0]\n",
        "adhd_part1 = convert_to_matrix(folder)\n",
        "\n",
        "folder = target_dir + target_class[1]\n",
        "adhd_part2 = convert_to_matrix(folder)\n",
        "\n",
        "folder = target_dir + target_class[2]\n",
        "control_part1 = convert_to_matrix(folder)\n",
        "\n",
        "folder = target_dir + target_class[3]\n",
        "control_part2 = convert_to_matrix(folder)\n"
      ],
      "execution_count": null,
      "outputs": []
    },
    {
      "cell_type": "code",
      "metadata": {
        "colab": {
          "base_uri": "https://localhost:8080/"
        },
        "id": "BA9IFbUxtvfj",
        "outputId": "fb2e6590-8bf9-4990-a0d0-27a5beec0df7"
      },
      "source": [
        "# Verifying...\n",
        "len(adhd_part1[0]) == len(adhd_part2[-1]) == len(control_part1[9]) == len(control_part2[10])"
      ],
      "execution_count": null,
      "outputs": [
        {
          "output_type": "execute_result",
          "data": {
            "text/plain": [
              "True"
            ]
          },
          "metadata": {},
          "execution_count": 16
        }
      ]
    },
    {
      "cell_type": "markdown",
      "metadata": {
        "id": "Kl1b-BJzxsZ_"
      },
      "source": [
        "#### **Step 3:** Normalising data in each matrix and calculating mutual information between features of every child(subject). \n",
        "\n",
        "Every child now has a matrix of dimensions (min_rows X d) we now normalize the matrix and calculate the mutual information of each of the features\n",
        "and generate a (d x d) matrix for each child."
      ]
    },
    {
      "cell_type": "markdown",
      "metadata": {
        "id": "slrpqWrAhUUE"
      },
      "source": [
        "***Mutual Information::*** The Mutual Information between two random variables measures non-linear relations between them. Besides, it indicates how much information can be obtained from a random variable by observing another random variable.It is closely linked to the concept of entropy. This is because it can also be known as the reduction of uncertainty of a random variable if another is known. Therefore, a high mutual information value indicates a large reduction of uncertainty whereas a low value indicates a small reduction. If the mutual information is zero, that means that the two random variables are independent. "
      ]
    },
    {
      "cell_type": "code",
      "metadata": {
        "id": "VYlMvRZcykzP"
      },
      "source": [
        "# Normalising the matrix - (Standard scaling) \n",
        "def normalize_matrix(y):\n",
        "  \"\"\"\n",
        "  Normalizes the matrix column by column and returns the normalized matrix\n",
        "  \"\"\"\n",
        "  # for j in range(19): # 19 features\n",
        "  #  for i in range(len(y[:, j])):\n",
        "  #    maximum = max(y[:, j])\n",
        "  #    minimum = min(y[:, j])\n",
        "  #    y[i, j] = (y[i, j] - minimum) / (maximum - minimum)\n",
        "  # return y\n",
        "\n",
        "  scaler = StandardScaler()\n",
        "  scaler.fit(y)\n",
        "  matrix = scaler.transform(y)\n",
        "  return matrix"
      ],
      "execution_count": null,
      "outputs": []
    },
    {
      "cell_type": "code",
      "metadata": {
        "id": "JSwzQ3Lm-2T0"
      },
      "source": [
        "# Normalising adhd_part1, adhd_part2, control_part1 and control_part2\n",
        "for i in range(len(adhd_part1)):\n",
        "  adhd_part1[i] = normalize_matrix(adhd_part1[i])\n",
        "\n",
        "for i in range(len(adhd_part2)):\n",
        "  adhd_part2[i] = normalize_matrix(adhd_part2[i])\n",
        "\n",
        "for i in range(len(control_part1)):\n",
        "  control_part1[i] = normalize_matrix(control_part1[i])\n",
        "\n",
        "for i in range(len(control_part2)):\n",
        "  control_part2[i] = normalize_matrix(control_part2[i])"
      ],
      "execution_count": null,
      "outputs": []
    },
    {
      "cell_type": "code",
      "metadata": {
        "id": "J500jvJHA0U6"
      },
      "source": [
        "# Evaluating Mutual information score for each feature    \n",
        "def mutual_information(df, columns, specific_col):\n",
        "  \"\"\"\n",
        "  A function which finds the mutual information score between every pair of features present in the matrix\n",
        "  \"\"\"\n",
        "  rows = []\n",
        "  for i in columns:\n",
        "    rows.append(mutual_info_score(df[specific_col], df[i]))\n",
        "  return rows"
      ],
      "execution_count": null,
      "outputs": []
    },
    {
      "cell_type": "code",
      "metadata": {
        "id": "LdBxoLeuVDNh"
      },
      "source": [
        "# Computing the mutual information matrix for every subject(child)\n",
        "mutual_info_adhd_1 = []\n",
        "mutual_info_adhd_2 = []\n",
        "mutual_info_control_1 = []\n",
        "mutual_info_control_2 = []\n",
        "\n",
        "columns = [\"Fz\" , \"Cz\", \"Pz\", \"C3\", \"T3\", \"C4\", \"T4\", \"Fp1\", \"Fp2\", \"F3\", \"F4\", \"F7\", \"F8\", \"P3\", \"P4\", \"T5\", \"T6\", \"O1\", \"O2\"]\n",
        "\n",
        "for i in range(len(adhd_part1)):\n",
        "  mat = adhd_part1[i]\n",
        "  df = pd.DataFrame(mat, columns=columns)\n",
        "\n",
        "  final_matrix = []\n",
        "\n",
        "  for i in columns:\n",
        "    row1 = mutual_information(df, columns, i)\n",
        "    final_matrix.append(row1)\n",
        "  final_df = pd.DataFrame(final_matrix, columns=columns)\n",
        "  mutual_info_adhd_1.append(final_df)\n",
        "\n",
        "for i in range(len(adhd_part2)):\n",
        "  mat = adhd_part2[i]\n",
        "  df = pd.DataFrame(mat, columns=columns)\n",
        "\n",
        "  final_matrix = []\n",
        "\n",
        "  for i in columns:\n",
        "    row1 = mutual_information(df, columns, i)\n",
        "    final_matrix.append(row1)\n",
        "  final_df = pd.DataFrame(final_matrix, columns=columns) \n",
        "  mutual_info_adhd_2.append(final_df)\n",
        "\n",
        "for i in range(len(control_part1)):\n",
        "  mat = control_part1[i]\n",
        "  df = pd.DataFrame(mat, columns=columns)\n",
        "\n",
        "  final_matrix = []\n",
        "\n",
        "  for i in columns:\n",
        "    row1 = mutual_information(df, columns, i)\n",
        "    final_matrix.append(row1)\n",
        "  final_df = pd.DataFrame(final_matrix, columns=columns)\n",
        "  mutual_info_control_1.append(final_df)\n",
        "\n",
        "for i in range(len(control_part2)):\n",
        "  mat = control_part2[i]\n",
        "  df = pd.DataFrame(mat, columns=columns)\n",
        "\n",
        "  final_matrix = []\n",
        "\n",
        "  for i in columns:\n",
        "    row1 = mutual_information(df, columns, i)\n",
        "    final_matrix.append(row1)\n",
        "  final_df = pd.DataFrame(final_matrix, columns=columns)\n",
        "  mutual_info_control_2.append(final_df)"
      ],
      "execution_count": null,
      "outputs": []
    },
    {
      "cell_type": "markdown",
      "metadata": {
        "id": "WypIXBihk_J_"
      },
      "source": [
        "#### **Step4:** Calculating average mutual information for every column \n",
        "\n",
        "The average mutual information for every column denotes the average incming mutual information for every feature from  every other features.\n",
        "(For every subject we get a d-dimensional vector)"
      ]
    },
    {
      "cell_type": "code",
      "metadata": {
        "id": "f0av4ex5T3f1"
      },
      "source": [
        "# Computing the average mutual information for every subject \n",
        "def average_mutual_info(part, columns):\n",
        "  subjects = []\n",
        "  for i in range(len(part)):\n",
        "    subject = part[i]\n",
        "    #type(subject)\n",
        "    col_mean = []\n",
        "    for j in columns:\n",
        "      mean = subject[j].mean()\n",
        "      col_mean.append(mean)\n",
        "    subjects.append(col_mean)\n",
        "  return subjects "
      ],
      "execution_count": null,
      "outputs": []
    },
    {
      "cell_type": "code",
      "metadata": {
        "id": "oJ08VFTqiGio"
      },
      "source": [
        "subjects = []\n",
        "subjects.append(average_mutual_info(mutual_info_adhd_1, columns))\n",
        "subjects.append(average_mutual_info(mutual_info_adhd_2, columns))\n",
        "subjects.append(average_mutual_info(mutual_info_control_1, columns))\n",
        "subjects.append(average_mutual_info(mutual_info_control_2, columns))"
      ],
      "execution_count": null,
      "outputs": []
    },
    {
      "cell_type": "markdown",
      "metadata": {
        "id": "0cxG_2-gioTu"
      },
      "source": [
        "#### **Step5:** Using the average mutual information matrices to make the dataframe\n",
        "\n",
        "In this step we convert the average mutual information matrices to make the final dataframe which is used for modelling"
      ]
    },
    {
      "cell_type": "code",
      "metadata": {
        "id": "UjlsPbxim7f_"
      },
      "source": [
        "# Creating seperate dataframes\n",
        "adhd_averages_1_df = pd.DataFrame(subjects[0], columns = columns)\n",
        "adhd_averages_2_df = pd.DataFrame(subjects[1], columns = columns)\n",
        "\n",
        "control_averages_1_df = pd.DataFrame(subjects[2], columns = columns)\n",
        "control_averages_2_df = pd.DataFrame(subjects[3], columns = columns)"
      ],
      "execution_count": null,
      "outputs": []
    },
    {
      "cell_type": "code",
      "metadata": {
        "id": "mgbWDpWHoO82"
      },
      "source": [
        "adhd_frames = [adhd_averages_1_df, adhd_averages_2_df]\n",
        "adhd = pd.concat(adhd_frames)\n",
        "adhd['Class'] = 1\n",
        "\n",
        "control_frames = [control_averages_1_df, control_averages_2_df]\n",
        "control = pd.concat(control_frames)\n",
        "control['Class'] = 0"
      ],
      "execution_count": null,
      "outputs": []
    },
    {
      "cell_type": "code",
      "metadata": {
        "id": "CfPAL9Veo6Jd"
      },
      "source": [
        "frames = [adhd, control]\n",
        "EEG_data = pd.concat(frames)\n",
        "EEG_data = EEG_data.reset_index()\n",
        "del EEG_data['index']"
      ],
      "execution_count": null,
      "outputs": []
    },
    {
      "cell_type": "code",
      "metadata": {
        "id": "mymp3nK0szk3"
      },
      "source": [
        "EEG_data = EEG_data.sample(frac=1).reset_index(drop=True)"
      ],
      "execution_count": null,
      "outputs": []
    },
    {
      "cell_type": "markdown",
      "metadata": {
        "id": "hALXnDCOtAdC"
      },
      "source": [
        "The dataframe is shuffled so while modelling, the model doesn't learn the order of the data"
      ]
    },
    {
      "cell_type": "code",
      "metadata": {
        "colab": {
          "base_uri": "https://localhost:8080/",
          "height": 226
        },
        "id": "hsd5T4GWsAtd",
        "outputId": "87f9fcf4-db07-40fd-8fb0-7334f138ddae"
      },
      "source": [
        "EEG_data.head()"
      ],
      "execution_count": null,
      "outputs": [
        {
          "output_type": "execute_result",
          "data": {
            "text/html": [
              "<div>\n",
              "<style scoped>\n",
              "    .dataframe tbody tr th:only-of-type {\n",
              "        vertical-align: middle;\n",
              "    }\n",
              "\n",
              "    .dataframe tbody tr th {\n",
              "        vertical-align: top;\n",
              "    }\n",
              "\n",
              "    .dataframe thead th {\n",
              "        text-align: right;\n",
              "    }\n",
              "</style>\n",
              "<table border=\"1\" class=\"dataframe\">\n",
              "  <thead>\n",
              "    <tr style=\"text-align: right;\">\n",
              "      <th></th>\n",
              "      <th>Fz</th>\n",
              "      <th>Cz</th>\n",
              "      <th>Pz</th>\n",
              "      <th>C3</th>\n",
              "      <th>T3</th>\n",
              "      <th>C4</th>\n",
              "      <th>T4</th>\n",
              "      <th>Fp1</th>\n",
              "      <th>Fp2</th>\n",
              "      <th>F3</th>\n",
              "      <th>F4</th>\n",
              "      <th>F7</th>\n",
              "      <th>F8</th>\n",
              "      <th>P3</th>\n",
              "      <th>P4</th>\n",
              "      <th>T5</th>\n",
              "      <th>T6</th>\n",
              "      <th>O1</th>\n",
              "      <th>O2</th>\n",
              "      <th>Class</th>\n",
              "    </tr>\n",
              "  </thead>\n",
              "  <tbody>\n",
              "    <tr>\n",
              "      <th>0</th>\n",
              "      <td>0.479652</td>\n",
              "      <td>0.443797</td>\n",
              "      <td>0.396333</td>\n",
              "      <td>0.548171</td>\n",
              "      <td>0.524749</td>\n",
              "      <td>0.547611</td>\n",
              "      <td>0.544825</td>\n",
              "      <td>0.495596</td>\n",
              "      <td>0.514852</td>\n",
              "      <td>0.479078</td>\n",
              "      <td>0.514061</td>\n",
              "      <td>0.450380</td>\n",
              "      <td>0.549250</td>\n",
              "      <td>0.464452</td>\n",
              "      <td>0.520252</td>\n",
              "      <td>0.470117</td>\n",
              "      <td>0.465750</td>\n",
              "      <td>0.520558</td>\n",
              "      <td>0.528908</td>\n",
              "      <td>0</td>\n",
              "    </tr>\n",
              "    <tr>\n",
              "      <th>1</th>\n",
              "      <td>0.305573</td>\n",
              "      <td>0.295691</td>\n",
              "      <td>0.334732</td>\n",
              "      <td>0.302409</td>\n",
              "      <td>0.326422</td>\n",
              "      <td>0.281179</td>\n",
              "      <td>0.340602</td>\n",
              "      <td>0.326161</td>\n",
              "      <td>0.335049</td>\n",
              "      <td>0.318232</td>\n",
              "      <td>0.296404</td>\n",
              "      <td>0.304915</td>\n",
              "      <td>0.311038</td>\n",
              "      <td>0.299631</td>\n",
              "      <td>0.337043</td>\n",
              "      <td>0.274438</td>\n",
              "      <td>0.328345</td>\n",
              "      <td>0.308516</td>\n",
              "      <td>0.315846</td>\n",
              "      <td>0</td>\n",
              "    </tr>\n",
              "    <tr>\n",
              "      <th>2</th>\n",
              "      <td>0.396224</td>\n",
              "      <td>0.348426</td>\n",
              "      <td>0.428341</td>\n",
              "      <td>0.377838</td>\n",
              "      <td>0.505478</td>\n",
              "      <td>0.418640</td>\n",
              "      <td>0.510150</td>\n",
              "      <td>0.419512</td>\n",
              "      <td>0.432501</td>\n",
              "      <td>0.347475</td>\n",
              "      <td>0.375918</td>\n",
              "      <td>0.318396</td>\n",
              "      <td>0.489774</td>\n",
              "      <td>0.377229</td>\n",
              "      <td>0.439532</td>\n",
              "      <td>0.357268</td>\n",
              "      <td>0.401579</td>\n",
              "      <td>0.383950</td>\n",
              "      <td>0.466160</td>\n",
              "      <td>0</td>\n",
              "    </tr>\n",
              "    <tr>\n",
              "      <th>3</th>\n",
              "      <td>0.343372</td>\n",
              "      <td>0.372404</td>\n",
              "      <td>0.357833</td>\n",
              "      <td>0.398411</td>\n",
              "      <td>0.348867</td>\n",
              "      <td>0.410534</td>\n",
              "      <td>0.331737</td>\n",
              "      <td>0.370118</td>\n",
              "      <td>0.234494</td>\n",
              "      <td>0.271485</td>\n",
              "      <td>0.279017</td>\n",
              "      <td>0.217813</td>\n",
              "      <td>0.224566</td>\n",
              "      <td>0.322636</td>\n",
              "      <td>0.201952</td>\n",
              "      <td>0.294536</td>\n",
              "      <td>0.340683</td>\n",
              "      <td>0.381257</td>\n",
              "      <td>0.253057</td>\n",
              "      <td>1</td>\n",
              "    </tr>\n",
              "    <tr>\n",
              "      <th>4</th>\n",
              "      <td>0.457996</td>\n",
              "      <td>0.373378</td>\n",
              "      <td>0.476861</td>\n",
              "      <td>0.348615</td>\n",
              "      <td>0.482842</td>\n",
              "      <td>0.353470</td>\n",
              "      <td>0.483648</td>\n",
              "      <td>0.352161</td>\n",
              "      <td>0.439774</td>\n",
              "      <td>0.294228</td>\n",
              "      <td>0.439387</td>\n",
              "      <td>0.291846</td>\n",
              "      <td>0.444305</td>\n",
              "      <td>0.284839</td>\n",
              "      <td>0.438975</td>\n",
              "      <td>0.300231</td>\n",
              "      <td>0.399094</td>\n",
              "      <td>0.305241</td>\n",
              "      <td>0.434503</td>\n",
              "      <td>0</td>\n",
              "    </tr>\n",
              "  </tbody>\n",
              "</table>\n",
              "</div>"
            ],
            "text/plain": [
              "         Fz        Cz        Pz        C3  ...        T6        O1        O2  Class\n",
              "0  0.479652  0.443797  0.396333  0.548171  ...  0.465750  0.520558  0.528908      0\n",
              "1  0.305573  0.295691  0.334732  0.302409  ...  0.328345  0.308516  0.315846      0\n",
              "2  0.396224  0.348426  0.428341  0.377838  ...  0.401579  0.383950  0.466160      0\n",
              "3  0.343372  0.372404  0.357833  0.398411  ...  0.340683  0.381257  0.253057      1\n",
              "4  0.457996  0.373378  0.476861  0.348615  ...  0.399094  0.305241  0.434503      0\n",
              "\n",
              "[5 rows x 20 columns]"
            ]
          },
          "metadata": {},
          "execution_count": 27
        }
      ]
    },
    {
      "cell_type": "markdown",
      "metadata": {
        "id": "8XfP1eEnsbK1"
      },
      "source": [
        "## Visualization and Analysis "
      ]
    },
    {
      "cell_type": "markdown",
      "metadata": {
        "id": "m3EI2j2HtdI-"
      },
      "source": [
        "Here we perform vizulation and analysis of EEG data based on control and adhd class."
      ]
    },
    {
      "cell_type": "markdown",
      "metadata": {
        "id": "cCdpmRXwtlTG"
      },
      "source": [
        "In this section we will be find the global minimum of average mutual information in an electrode for each class."
      ]
    },
    {
      "cell_type": "code",
      "metadata": {
        "id": "xi8Fe9rDv6te"
      },
      "source": [
        "# Getting a series object containing minimum value from each column of given dataframe \n",
        "minvalue_series_adhd = adhd.min(skipna = False)\n",
        "#minvalue_series_adhd\n",
        "\n",
        "minvalue_series_control = control.min(skipna = False)\n",
        "#minvalue_series_control"
      ],
      "execution_count": null,
      "outputs": []
    },
    {
      "cell_type": "code",
      "metadata": {
        "id": "wF65-Ao6Z3MD"
      },
      "source": [
        "minvalue_adhd = np.array(minvalue_series_adhd)\n",
        "minvalue_adhd = minvalue_adhd[0:19]\n",
        "minvalue_control = np.array(minvalue_series_control)\n",
        "minvalue_control = minvalue_control[0:19]"
      ],
      "execution_count": null,
      "outputs": []
    },
    {
      "cell_type": "code",
      "metadata": {
        "colab": {
          "base_uri": "https://localhost:8080/"
        },
        "id": "3Uf9ul0BwWX8",
        "outputId": "a9057fda-b594-4b3c-912d-c0dc51fed893"
      },
      "source": [
        "# EEG recording was performed based on 10-20 standard by 19 channels\n",
        "standard_montage = mne.channels.make_standard_montage('standard_1020')    \n",
        "n_channels = len(columns)\n",
        "fake_info = mne.create_info(ch_names=columns, sfreq=128,\n",
        "                            ch_types='eeg')\n",
        "\n",
        "rng = np.random.RandomState(0)\n",
        "data = rng.normal(size=(n_channels, 1)) * 1e-6\n",
        "fake_evoked = mne.EvokedArray(data, fake_info)\n",
        "fake_evoked.set_montage(standard_montage)"
      ],
      "execution_count": null,
      "outputs": [
        {
          "output_type": "execute_result",
          "data": {
            "text/plain": [
              "<Evoked | '' (average, N=1), 0 – 0 sec, baseline off, 19 ch, ~33 kB>"
            ]
          },
          "metadata": {},
          "execution_count": 30
        }
      ]
    },
    {
      "cell_type": "code",
      "metadata": {
        "colab": {
          "base_uri": "https://localhost:8080/",
          "height": 237
        },
        "id": "J1XcUYc6xzxs",
        "outputId": "2bedbac6-c4a2-4c06-a72d-44e258d27eb3"
      },
      "source": [
        "indices = [ i for i in range(19)]\n",
        "\n",
        "fig, ax = plt.subplots(ncols=2, figsize=(8, 8), gridspec_kw=dict(top=5),\n",
        "                       sharex=True, sharey=True)\n",
        "\n",
        "mne.viz.plot_topomap(minvalue_adhd, fake_evoked.info, axes=ax[0],\n",
        "                     show=False)\n",
        "mne.viz.plot_topomap(minvalue_control, fake_evoked.info, axes=ax[1],\n",
        "                     show=False)\n",
        "\n",
        "# add titles\n",
        "ax[0].set_title('ADHD', fontweight='bold');\n",
        "ax[1].set_title('Control', fontweight='bold');"
      ],
      "execution_count": null,
      "outputs": [
        {
          "output_type": "display_data",
          "data": {
            "image/png": "[encoded data removed]",
            "text/plain": [
              "<Figure size 576x576 with 2 Axes>"
            ]
          },
          "metadata": {}
        }
      ]
    },
    {
      "cell_type": "markdown",
      "metadata": {
        "id": "DkFgJHj675kr"
      },
      "source": [
        "**Inferences:**\n",
        "\n"
      ]
    },
    {
      "cell_type": "markdown",
      "metadata": {
        "id": "R7Lq5nqXa5VT"
      },
      "source": [
        "A topographic map shows the spatial distribution of activity. \n",
        "The figure above shows the topographic map of a child diagnosed with ADHD and a normal child. A topographic map shows us the view of a person's scalp, where the circle is the person's head viewed from above. The black dots on the circle correspond to the approximate physical locations of each electrode. In this experiment 19 electrodes sampling at 128Hz were used to obtain the EEG recordings. In these type of topographic maps we assume that voltage value changes smoothly from one electrode to the next electrode (i.e. interpolation). From the above graphs the following conclusions can be made: \n",
        "1. There was a visual stimulus that was shown on the computer screen (the children were asked to count the number of characters from a given image and once the task was completed they were showed the next image) this is why we see an activity in the posterior regions corresponding to the activaion of the visual coretx region. Here we can see the visual cortex region of both ADHD and normal children were activated.\n",
        "2. In a normal(control) child we can see the left side of the head (central lateral sensory motor area) lighting up. This indicates the child is responding to the visual stimulus. However for a child with ADHD, this region doesn't seem to light up. This is because of visual attention is one of the defecits in ADHD children, therefore they are slower to respond to visual stimulus in comparison to normal children."
      ]
    },
    {
      "cell_type": "markdown",
      "metadata": {
        "id": "Sk5Z6zMB2q-p"
      },
      "source": [
        "![image.png](data:image/png;base64,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)"
      ]
    },
    {
      "cell_type": "markdown",
      "metadata": {
        "id": "LAUT_m3W26zo"
      },
      "source": [
        "The electrodes are generally distributed in the manner shown above"
      ]
    },
    {
      "cell_type": "markdown",
      "metadata": {
        "id": "LlX19p9W785x"
      },
      "source": [
        "## Modelling:"
      ]
    },
    {
      "cell_type": "markdown",
      "metadata": {
        "id": "ugHtwy0cVZl8"
      },
      "source": [
        "First we check if the data is linearly sepearable and then we continue to build the models"
      ]
    },
    {
      "cell_type": "markdown",
      "metadata": {
        "id": "F0yJWmXwSmas"
      },
      "source": [
        "### **Is the data linearly separable?**"
      ]
    },
    {
      "cell_type": "markdown",
      "metadata": {
        "id": "qV3A7Cwy_lE_"
      },
      "source": [
        "#### **Principal Component Analysis (PCA) - Dimensionality reduction** "
      ]
    },
    {
      "cell_type": "markdown",
      "metadata": {
        "id": "gKnwE43_SH8V"
      },
      "source": [
        " - PCA is a dimension redcuction methodology which aims to reduce a large set of (often correlated) variables into a smaller set of (uncorrelated) variables, called principal components, which holds sufficient information without loosing the the relevant info much.\n",
        "\n",
        " - Principal components are new variables that are constructed as linear combinations or mixtures of the initial variables. These combinations are done in such a way that the new variables (i.e., principal components) are uncorrelated and most of the information within the initial variables is squeezed or compressed into the first components."
      ]
    },
    {
      "cell_type": "code",
      "metadata": {
        "colab": {
          "base_uri": "https://localhost:8080/",
          "height": 423
        },
        "id": "ZnytcyI7SjNJ",
        "outputId": "fca80719-0bee-4c35-f698-d7d6054e2fe1"
      },
      "source": [
        "pca = PCA(n_components=2)\n",
        "\n",
        "principalComponents = pca.fit_transform(EEG_data)\n",
        "\n",
        "principal_df = pd.DataFrame(data = principalComponents, columns=['principal_component_1', 'principal_component_2'])\n",
        "reduced_df = pd.concat([principal_df, EEG_data[['Class']]], axis = 1)\n",
        "reduced_df"
      ],
      "execution_count": null,
      "outputs": [
        {
          "output_type": "execute_result",
          "data": {
            "text/html": [
              "<div>\n",
              "<style scoped>\n",
              "    .dataframe tbody tr th:only-of-type {\n",
              "        vertical-align: middle;\n",
              "    }\n",
              "\n",
              "    .dataframe tbody tr th {\n",
              "        vertical-align: top;\n",
              "    }\n",
              "\n",
              "    .dataframe thead th {\n",
              "        text-align: right;\n",
              "    }\n",
              "</style>\n",
              "<table border=\"1\" class=\"dataframe\">\n",
              "  <thead>\n",
              "    <tr style=\"text-align: right;\">\n",
              "      <th></th>\n",
              "      <th>principal_component_1</th>\n",
              "      <th>principal_component_2</th>\n",
              "      <th>Class</th>\n",
              "    </tr>\n",
              "  </thead>\n",
              "  <tbody>\n",
              "    <tr>\n",
              "      <th>0</th>\n",
              "      <td>0.544747</td>\n",
              "      <td>-0.216270</td>\n",
              "      <td>0</td>\n",
              "    </tr>\n",
              "    <tr>\n",
              "      <th>1</th>\n",
              "      <td>-0.080630</td>\n",
              "      <td>-0.720863</td>\n",
              "      <td>0</td>\n",
              "    </tr>\n",
              "    <tr>\n",
              "      <th>2</th>\n",
              "      <td>0.259782</td>\n",
              "      <td>-0.449260</td>\n",
              "      <td>0</td>\n",
              "    </tr>\n",
              "    <tr>\n",
              "      <th>3</th>\n",
              "      <td>-0.726897</td>\n",
              "      <td>0.066352</td>\n",
              "      <td>1</td>\n",
              "    </tr>\n",
              "    <tr>\n",
              "      <th>4</th>\n",
              "      <td>0.198177</td>\n",
              "      <td>-0.507275</td>\n",
              "      <td>0</td>\n",
              "    </tr>\n",
              "    <tr>\n",
              "      <th>...</th>\n",
              "      <td>...</td>\n",
              "      <td>...</td>\n",
              "      <td>...</td>\n",
              "    </tr>\n",
              "    <tr>\n",
              "      <th>116</th>\n",
              "      <td>0.172704</td>\n",
              "      <td>-0.534749</td>\n",
              "      <td>0</td>\n",
              "    </tr>\n",
              "    <tr>\n",
              "      <th>117</th>\n",
              "      <td>0.271292</td>\n",
              "      <td>0.804803</td>\n",
              "      <td>1</td>\n",
              "    </tr>\n",
              "    <tr>\n",
              "      <th>118</th>\n",
              "      <td>0.433625</td>\n",
              "      <td>-0.302016</td>\n",
              "      <td>0</td>\n",
              "    </tr>\n",
              "    <tr>\n",
              "      <th>119</th>\n",
              "      <td>-0.408721</td>\n",
              "      <td>0.332688</td>\n",
              "      <td>1</td>\n",
              "    </tr>\n",
              "    <tr>\n",
              "      <th>120</th>\n",
              "      <td>0.085634</td>\n",
              "      <td>-0.598165</td>\n",
              "      <td>0</td>\n",
              "    </tr>\n",
              "  </tbody>\n",
              "</table>\n",
              "<p>121 rows × 3 columns</p>\n",
              "</div>"
            ],
            "text/plain": [
              "     principal_component_1  principal_component_2  Class\n",
              "0                 0.544747              -0.216270      0\n",
              "1                -0.080630              -0.720863      0\n",
              "2                 0.259782              -0.449260      0\n",
              "3                -0.726897               0.066352      1\n",
              "4                 0.198177              -0.507275      0\n",
              "..                     ...                    ...    ...\n",
              "116               0.172704              -0.534749      0\n",
              "117               0.271292               0.804803      1\n",
              "118               0.433625              -0.302016      0\n",
              "119              -0.408721               0.332688      1\n",
              "120               0.085634              -0.598165      0\n",
              "\n",
              "[121 rows x 3 columns]"
            ]
          },
          "metadata": {},
          "execution_count": 32
        }
      ]
    },
    {
      "cell_type": "code",
      "metadata": {
        "colab": {
          "base_uri": "https://localhost:8080/",
          "height": 523
        },
        "id": "aApjcNDmUO4C",
        "outputId": "cf19b81a-4335-4d39-da09-3bfd3bc6a6c2"
      },
      "source": [
        "fig = plt.figure(figsize = (8, 8))\n",
        "ax = fig.add_subplot(1,1,1) \n",
        "ax.set_xlabel('Principal Component 1', fontsize = 15)\n",
        "ax.set_ylabel('Principal Component 2', fontsize = 15)\n",
        "ax.set_title('2 component PCA', fontsize = 20)\n",
        "targets = [0, 1]\n",
        "colors = ['orange', 'purple']\n",
        "for target, color in zip(targets,colors):\n",
        "    indicesToKeep = reduced_df['Class'] == target\n",
        "    ax.scatter(reduced_df.loc[indicesToKeep, 'principal_component_1'], \n",
        "               reduced_df.loc[indicesToKeep, 'principal_component_2'],\n",
        "               c = color, \n",
        "               s = 50)\n",
        "ax.legend(targets)\n",
        "ax.grid()"
      ],
      "execution_count": null,
      "outputs": [
        {
          "output_type": "display_data",
          "data": {
            "image/png": "[encoded data removed]",
            "text/plain": [
              "<Figure size 576x576 with 1 Axes>"
            ]
          },
          "metadata": {
            "needs_background": "light"
          }
        }
      ]
    },
    {
      "cell_type": "markdown",
      "metadata": {
        "id": "93kWQXP-Xkn0"
      },
      "source": [
        "From the above plot we can easily draw a straight line to separate the 2 classes, therefore we can conclude that the data is ***linearly seperable*** :) \n"
      ]
    },
    {
      "cell_type": "code",
      "metadata": {
        "colab": {
          "base_uri": "https://localhost:8080/",
          "height": 421
        },
        "id": "k4LDwxrkWInH",
        "outputId": "3197929e-7554-4b1e-e24d-3405591ceacb"
      },
      "source": [
        "plt.clf()\n",
        "plt.figure(figsize = (10, 6))\n",
        "names = [\"ADHD\", \"Normal\"]\n",
        "label = [1, 0]\n",
        "colors = ['green','brown']\n",
        "plt.title('2 component PCA')\n",
        "plt.xlabel('Principal Component 1')\n",
        "plt.ylabel('Principal Component 2')\n",
        "for i in range(len(names)):\n",
        "    bucket = reduced_df[reduced_df['Class'] == i]\n",
        "    bucket = bucket.iloc[:,[0,1]].values\n",
        "    hull = ConvexHull(bucket)\n",
        "    plt.scatter(bucket[:, 0], bucket[:, 1], label=names[i]) \n",
        "    for j in hull.simplices:\n",
        "        plt.plot(bucket[j,0], bucket[j,1], colors[i])\n",
        "plt.legend()\n",
        "plt.show()"
      ],
      "execution_count": null,
      "outputs": [
        {
          "output_type": "display_data",
          "data": {
            "text/plain": [
              "<Figure size 432x288 with 0 Axes>"
            ]
          },
          "metadata": {}
        },
        {
          "output_type": "display_data",
          "data": {
            "image/png": "[encoded data removed]",
            "text/plain": [
              "<Figure size 720x432 with 1 Axes>"
            ]
          },
          "metadata": {
            "needs_background": "light"
          }
        }
      ]
    },
    {
      "cell_type": "markdown",
      "metadata": {
        "id": "bkW9p8TecdEs"
      },
      "source": [
        "The convex hull represents the outer boundaries of a group of data points (classes). \n",
        "The logic when using convex hulls when testing for linear separability is: \n",
        "Two classes X and Y are linearly separable if the intersection of the convex hulls of X and Y is empty, and not linearly separable with a non-empty intersection."
      ]
    },
    {
      "cell_type": "markdown",
      "metadata": {
        "id": "kKsW7n6BVj5A"
      },
      "source": [
        "The various modelling experiments in this notebook:\n",
        "\n",
        "**Supervised approach:**\n",
        "1. Perceptron for classification\n",
        "2. Logistic Regression\n",
        "3. KNN classification\n",
        "4. Naive Bayes\n",
        "5. Decision trees\n",
        "6. Random forests\n",
        "7. SVM\n",
        "\n",
        "**Unsupervised approach:**\n",
        "1. PCA - Dimensionality Reduction (Finding optimum parameters)\n",
        "2. K means <br>\n",
        "(Implemented along with Hyperparameter tuning - GridSearch and cross validation)\n"
      ]
    },
    {
      "cell_type": "markdown",
      "metadata": {
        "id": "XAu8LUUT67n0"
      },
      "source": [
        "Grid Search uses a different combination of all the specified hyperparameters and their values and calculates the performance for each combination and selects the best value for the hyperparameters.\n",
        "\n",
        "**In GridSearchCV, along with Grid Search, cross-validation is also performed.** Cross-Validation is used while training the model. In cross-validation, the process divides the train data further into 3 parts – the train data, test data and the validation data.\n",
        "\n",
        "The most popular type of Cross-validation is K-fold Cross-Validation. It is an iterative process that divides the train data into k partitions. Each iteration keeps one partition for testing and the remaining k-1 partitions for training the model. The next iteration will set the next partition as test data and the remaining k-1 as train data and so on. In each iteration, it will record the performance of the model and at the end give the average of all the performance."
      ]
    },
    {
      "cell_type": "markdown",
      "metadata": {
        "id": "6yuq6x_eVmUh"
      },
      "source": [
        "### **Supervised Approach:**"
      ]
    },
    {
      "cell_type": "code",
      "metadata": {
        "id": "JdmwBY11rgRU"
      },
      "source": [
        "predictions = []"
      ],
      "execution_count": null,
      "outputs": []
    },
    {
      "cell_type": "markdown",
      "metadata": {
        "id": "DHIxvx4K-AaP"
      },
      "source": [
        "#### **1. Perceptron for Classification**"
      ]
    },
    {
      "cell_type": "code",
      "metadata": {
        "id": "HVZCeOR1w3Mf"
      },
      "source": [
        "perceptron_data = EEG_data[columns]\n",
        "perceptron_labels = EEG_data['Class']"
      ],
      "execution_count": null,
      "outputs": []
    },
    {
      "cell_type": "code",
      "metadata": {
        "id": "hU6lj2d5wT3Y"
      },
      "source": [
        "X_train_per, X_test_per, y_train_per, y_test_per = train_test_split(perceptron_data, perceptron_labels, test_size=0.3)"
      ],
      "execution_count": null,
      "outputs": []
    },
    {
      "cell_type": "code",
      "metadata": {
        "colab": {
          "base_uri": "https://localhost:8080/"
        },
        "id": "hzB8epor-sOw",
        "outputId": "2eb9e5af-dfcc-4f70-d464-80b719d86f94"
      },
      "source": [
        "print(\" Perceptron \\n\")\n",
        "\n",
        "print(\"Grid Search for alpha and n_iter\")\n",
        "perceptron = Perceptron(random_state=0)\n",
        "gridsearch = GridSearchCV(perceptron, {'alpha': [0.0001, 0.0003, 0.001, 0.003, 0.01, 0.03, 0.1, 0.3],\n",
        "\t\t\t\t\t\t\t\t\t\t\t\t               'n_iter_no_change': [5, 10, 15, 20, 50]},\n",
        "\t\t\t\t\t\t\t\t\t                      cv=5, # cross-validation\n",
        "                                        scoring='accuracy')\n",
        "gridsearch.fit(X_train_per, y_train_per)\n",
        "\n",
        "print(f\"Best params: {gridsearch.best_params_}\")\n",
        "print(f\"Best accuracy score: {gridsearch.best_score_}\")"
      ],
      "execution_count": null,
      "outputs": [
        {
          "output_type": "stream",
          "name": "stdout",
          "text": [
            " Perceptron \n",
            "\n",
            "Grid Search for alpha and n_iter\n",
            "Best params: {'alpha': 0.0001, 'n_iter_no_change': 50}\n",
            "Best accuracy score: 0.6794117647058824\n"
          ]
        }
      ]
    },
    {
      "cell_type": "code",
      "metadata": {
        "colab": {
          "base_uri": "https://localhost:8080/"
        },
        "id": "ZA7Fr6wH33Su",
        "outputId": "d567ebc5-d6c2-4a82-89d5-bab126796877"
      },
      "source": [
        "# Model with best parameters obtained after GridSearchCV\n",
        "perceptron = Perceptron(alpha=0.0001, n_iter_no_change=15)\n",
        "scores = cross_val_score(perceptron, X_train_per, y_train_per, scoring='accuracy', cv=5)\n",
        "print(f\"Cross-validation (mean) accuracy-score: {np.mean(scores)}\\n\")\n",
        "\n",
        "perceptron.fit(X_train_per, y_train_per)\n",
        "predicted_per = perceptron.predict(X_test_per)\n"
      ],
      "execution_count": null,
      "outputs": [
        {
          "output_type": "stream",
          "name": "stdout",
          "text": [
            "Cross-validation (mean) accuracy-score: 0.5\n",
            "\n"
          ]
        }
      ]
    },
    {
      "cell_type": "code",
      "metadata": {
        "colab": {
          "base_uri": "https://localhost:8080/"
        },
        "id": "HzQN3qcX6an1",
        "outputId": "44684204-03e7-40ba-96c9-e34c0b7ca9bb"
      },
      "source": [
        "print(f\"intercept: {perceptron.intercept_}\")\n",
        "print(f\"coefs: {perceptron.coef_}\")"
      ],
      "execution_count": null,
      "outputs": [
        {
          "output_type": "stream",
          "name": "stdout",
          "text": [
            "intercept: [-1.]\n",
            "coefs: [[-19.6507866   -5.13870391  16.69574235   2.66184051   7.60901926\n",
            "    0.19297231   3.20631733   9.35713234 -14.96903298  -2.31349252\n",
            "   -7.56765538  -1.35104836  -5.98352102  -5.22594459  -6.81002624\n",
            "   -5.3423642   18.09559994   3.05553258   5.28721396]]\n"
          ]
        }
      ]
    },
    {
      "cell_type": "code",
      "metadata": {
        "id": "HlwslHOu6kXE"
      },
      "source": [
        "predictions.append([predicted_per, y_test_per])"
      ],
      "execution_count": null,
      "outputs": []
    },
    {
      "cell_type": "markdown",
      "metadata": {
        "id": "nBq9qIXLBK2z"
      },
      "source": [
        "#### **2. Logistic Regression**"
      ]
    },
    {
      "cell_type": "code",
      "metadata": {
        "id": "YgQ33kxps54U"
      },
      "source": [
        "data = EEG_data[columns]\n",
        "labels = EEG_data['Class']\n",
        "X_train_log, X_test_log, y_train_log, y_test_log = train_test_split(data, labels, test_size=0.3)"
      ],
      "execution_count": null,
      "outputs": []
    },
    {
      "cell_type": "code",
      "metadata": {
        "colab": {
          "base_uri": "https://localhost:8080/"
        },
        "id": "WmOh1b9GrsfV",
        "outputId": "309b5e47-2baa-421d-f341-7279b70c662c"
      },
      "source": [
        "gridsearch_log = {\"C\":np.logspace(-3,3,7), \"penalty\":[\"l1\",\"l2\"]} # l1 lasso l2 ridge\n",
        "\n",
        "logreg = LogisticRegression()\n",
        "\n",
        "logreg_cv = GridSearchCV(logreg, gridsearch_log, cv=10)   # cv - stands for cross validation (Stratified K-Fold) here K=10\n",
        "\n",
        "logreg_cv.fit(X_train_log, y_train_log)\n",
        "\n",
        "print(\"Tuned hpyerparameters :(best parameters) \",logreg_cv.best_params_)\n",
        "print(\"Accuracy :\",logreg_cv.best_score_)"
      ],
      "execution_count": null,
      "outputs": [
        {
          "output_type": "stream",
          "name": "stdout",
          "text": [
            "Tuned hpyerparameters :(best parameters)  {'C': 100.0, 'penalty': 'l2'}\n",
            "Accuracy : 0.7152777777777778\n"
          ]
        }
      ]
    },
    {
      "cell_type": "code",
      "metadata": {
        "colab": {
          "base_uri": "https://localhost:8080/"
        },
        "id": "P4zD17Tutp9s",
        "outputId": "7d18b358-eec2-49c7-b5d1-cbcddcae8d68"
      },
      "source": [
        "# Model with best parameters obtained after GridSearchCV\n",
        "logreg2 = LogisticRegression(C=10, penalty=\"l2\")\n",
        "\n",
        "logreg2.fit(X_train_log, y_train_log)\n",
        "\n",
        "print(\"Score: \", logreg2.score(X_test_log, y_test_log))"
      ],
      "execution_count": null,
      "outputs": [
        {
          "output_type": "stream",
          "name": "stdout",
          "text": [
            "Score:  0.7027027027027027\n"
          ]
        }
      ]
    },
    {
      "cell_type": "code",
      "metadata": {
        "id": "n5XAt4YEvjCS"
      },
      "source": [
        "prediction_log = logreg2.predict(X_test_log)\n",
        "predictions.append([prediction_log, y_test_log])"
      ],
      "execution_count": null,
      "outputs": []
    },
    {
      "cell_type": "markdown",
      "metadata": {
        "id": "WoU8p6WZt2g6"
      },
      "source": [
        "#### **3. KNN Classification**"
      ]
    },
    {
      "cell_type": "code",
      "metadata": {
        "id": "4tweVCl_uHxV"
      },
      "source": [
        "X_train_knn, X_test_knn, y_train_knn, y_test_knn = train_test_split(data, labels, test_size=0.3)"
      ],
      "execution_count": null,
      "outputs": []
    },
    {
      "cell_type": "code",
      "metadata": {
        "colab": {
          "base_uri": "https://localhost:8080/"
        },
        "id": "FUmat1m0u9mr",
        "outputId": "f1527ca3-cfb5-460f-cdf4-8593f8cd76f7"
      },
      "source": [
        "gridsearch_knn = {\n",
        "    'n_neighbors': [3,  5, 11, 19, 21, 23, 25, 27],\n",
        "    'weights': ['uniform', 'distance'],\n",
        "    'metric': ['euclidean', 'manhattan']\n",
        "}\n",
        "\n",
        "knn = GridSearchCV(KNeighborsClassifier(),\n",
        "                   gridsearch_knn,\n",
        "                   verbose=1, \n",
        "                   cv=3, # Does stratifiedKFold cross validation\n",
        "                   n_jobs=-1)\n",
        "\n",
        "knn_result = knn.fit(X_train_knn, y_train_knn)\n",
        "print(\"\\n\", knn_result.best_score_, \"\\n\")\n",
        "print(knn_result.best_estimator_, \"\\n\")\n",
        "print(knn_result.best_params_, \"\\n\")"
      ],
      "execution_count": null,
      "outputs": [
        {
          "output_type": "stream",
          "name": "stdout",
          "text": [
            "Fitting 3 folds for each of 32 candidates, totalling 96 fits\n",
            "\n",
            " 0.6428571428571429 \n",
            "\n",
            "KNeighborsClassifier(metric='euclidean', n_neighbors=27, weights='distance') \n",
            "\n",
            "{'metric': 'euclidean', 'n_neighbors': 27, 'weights': 'distance'} \n",
            "\n"
          ]
        }
      ]
    },
    {
      "cell_type": "code",
      "metadata": {
        "colab": {
          "base_uri": "https://localhost:8080/"
        },
        "id": "twxWgcwwwEmq",
        "outputId": "2e093c73-b298-42d8-905a-b5abde38106e"
      },
      "source": [
        "# Model with best parameters obtained after GridSearchCV\n",
        "knn_model = KNeighborsClassifier(**knn_result.best_params_)\n",
        "knn_model.fit(X_train_knn, y_train_knn)\n",
        "knn_predictions = knn_model.predict(X_test_knn)\n",
        "print(\"Score: \", knn_model.score(X_test_knn, y_test_knn))"
      ],
      "execution_count": null,
      "outputs": [
        {
          "output_type": "stream",
          "name": "stdout",
          "text": [
            "Score:  0.6216216216216216\n"
          ]
        }
      ]
    },
    {
      "cell_type": "code",
      "metadata": {
        "id": "icaAqs5UkfjM"
      },
      "source": [
        "predictions.append([knn_predictions, y_test_knn])"
      ],
      "execution_count": null,
      "outputs": []
    },
    {
      "cell_type": "markdown",
      "metadata": {
        "id": "UZIWT-oawwjW"
      },
      "source": [
        "#### **4. Naive Bayes**"
      ]
    },
    {
      "cell_type": "code",
      "metadata": {
        "id": "RHj9NEb_it2j"
      },
      "source": [
        "X_train_nb, X_test_nb, y_train_nb, y_test_nb = train_test_split(EEG_data[columns], EEG_data['Class'], test_size=0.3)"
      ],
      "execution_count": null,
      "outputs": []
    },
    {
      "cell_type": "code",
      "metadata": {
        "colab": {
          "base_uri": "https://localhost:8080/"
        },
        "id": "50LbqDjojZqF",
        "outputId": "5acbbb0e-6efe-4f92-9458-a8a52a9fbc1f"
      },
      "source": [
        "gridsearch_nb = {'var_smoothing': np.logspace(0,-9, num=100)}\n",
        "\n",
        "nbModel_grid = GridSearchCV(estimator=GaussianNB(), param_grid=gridsearch_nb, verbose=1, cv=10, n_jobs=-1)\n",
        "nbModel_grid.fit(X_train_nb, y_train_nb)\n",
        "\n",
        "print(nbModel_grid.best_estimator_)"
      ],
      "execution_count": null,
      "outputs": [
        {
          "output_type": "stream",
          "name": "stdout",
          "text": [
            "Fitting 10 folds for each of 100 candidates, totalling 1000 fits\n",
            "GaussianNB(var_smoothing=1.0)\n"
          ]
        }
      ]
    },
    {
      "cell_type": "code",
      "metadata": {
        "colab": {
          "base_uri": "https://localhost:8080/"
        },
        "id": "I70-4-U7kFG5",
        "outputId": "bba59277-e095-4a7e-d4ff-d93bfcf009d4"
      },
      "source": [
        "# Model with best parameters obtained after GridSearchCV\n",
        "nb_model = GaussianNB(**nbModel_grid.best_params_)\n",
        "nb_model.fit(X_train_nb, y_train_nb)\n",
        "nb_predictions = nb_model.predict(X_test_nb)\n",
        "print(\"Score: \", nb_model.score(X_test_nb, y_test_nb))"
      ],
      "execution_count": null,
      "outputs": [
        {
          "output_type": "stream",
          "name": "stdout",
          "text": [
            "Score:  0.5945945945945946\n"
          ]
        }
      ]
    },
    {
      "cell_type": "code",
      "metadata": {
        "id": "bdPOb8NakqiE"
      },
      "source": [
        "predictions.append([nb_predictions, y_test_nb])"
      ],
      "execution_count": null,
      "outputs": []
    },
    {
      "cell_type": "markdown",
      "metadata": {
        "id": "a9jGoLN55d2Z"
      },
      "source": [
        "#### **5. Decision Trees**"
      ]
    },
    {
      "cell_type": "code",
      "metadata": {
        "id": "U985f7IN6RpI"
      },
      "source": [
        "X_train_dt, X_test_dt, y_train_dt, y_test_dt = train_test_split(data, labels, test_size=0.3)"
      ],
      "execution_count": null,
      "outputs": []
    },
    {
      "cell_type": "code",
      "metadata": {
        "colab": {
          "base_uri": "https://localhost:8080/"
        },
        "id": "lLqiCLAf6IKh",
        "outputId": "403fac89-89dd-4da2-9821-9789b7688a06"
      },
      "source": [
        "gridsearch_dt = {'max_leaf_nodes': list(range(2, 50)), \n",
        "                  'min_samples_split': [2, 3, 4, 5]}\n",
        "\n",
        "dt = GridSearchCV(DecisionTreeClassifier(), \n",
        "                  gridsearch_dt , \n",
        "                  verbose=1, \n",
        "                  cv=5)\n",
        "\n",
        "dt_result = dt.fit(X_train_dt, y_train_dt)\n",
        "\n",
        "print(\"\\n\", dt_result.best_score_, \"\\n\")\n",
        "print(dt_result.best_estimator_, \"\\n\")\n",
        "print(dt_result.best_params_, \"\\n\")"
      ],
      "execution_count": null,
      "outputs": [
        {
          "output_type": "stream",
          "name": "stdout",
          "text": [
            "Fitting 5 folds for each of 192 candidates, totalling 960 fits\n",
            "\n",
            " 0.8338235294117646 \n",
            "\n",
            "DecisionTreeClassifier(max_leaf_nodes=22) \n",
            "\n",
            "{'max_leaf_nodes': 22, 'min_samples_split': 2} \n",
            "\n"
          ]
        }
      ]
    },
    {
      "cell_type": "code",
      "metadata": {
        "id": "HcFS1t746x7p"
      },
      "source": [
        "# Model with best parameters obtained after GridSearchCV\n",
        "dt_model = DecisionTreeClassifier(**dt_result.best_params_)\n",
        "dt_model.fit(X_train_dt, y_train_dt)\n",
        "dt_predictions = dt_model.predict(X_test_dt)"
      ],
      "execution_count": null,
      "outputs": []
    },
    {
      "cell_type": "code",
      "metadata": {
        "colab": {
          "base_uri": "https://localhost:8080/"
        },
        "id": "41xoC-F07GY4",
        "outputId": "741065b6-1483-4602-9a79-523bd6816683"
      },
      "source": [
        "print(\"Score: \", dt_model.score(X_test_dt, y_test_dt))"
      ],
      "execution_count": null,
      "outputs": [
        {
          "output_type": "stream",
          "name": "stdout",
          "text": [
            "Score:  0.5405405405405406\n"
          ]
        }
      ]
    },
    {
      "cell_type": "code",
      "metadata": {
        "id": "lUrQkaYx72jB"
      },
      "source": [
        "predictions.append([dt_predictions, y_test_dt])"
      ],
      "execution_count": null,
      "outputs": []
    },
    {
      "cell_type": "markdown",
      "metadata": {
        "id": "cCC5EqpE8Oup"
      },
      "source": [
        "#### **6. Random Forests**"
      ]
    },
    {
      "cell_type": "code",
      "metadata": {
        "id": "eQEbA8L8808x"
      },
      "source": [
        "X_train_rf, X_test_rf, y_train_rf, y_test_rf = train_test_split(data, labels, test_size=0.3)"
      ],
      "execution_count": null,
      "outputs": []
    },
    {
      "cell_type": "code",
      "metadata": {
        "colab": {
          "base_uri": "https://localhost:8080/"
        },
        "id": "iIpu2_wf8TaD",
        "outputId": "22ae825c-e7eb-43ed-860c-dd2f58e3b232"
      },
      "source": [
        "# Hyper-parameter optimisation using GridSearchCV\n",
        "gridsearch_rf = { 'n_estimators': [100,150, 200],\n",
        "                  'max_features': ['auto', 'sqrt', 'log2'],\n",
        "                  'max_depth' : [4,6,8,12,14,16],\n",
        "                  'criterion' :['gini', 'entropy'],\n",
        "                  'n_jobs':[-1]\n",
        "                  }\n",
        "\n",
        "#Fitting the trainingset to find parameters with best accuracy\n",
        "rf = GridSearchCV(estimator=RandomForestClassifier(), \n",
        "                     param_grid=gridsearch_rf, \n",
        "                     cv= 3)\n",
        "                            \n",
        "rf_result = rf.fit(X_train_rf, y_train_rf)\n",
        "print(\"\\n\", rf_result.best_score_, \"\\n\")\n",
        "print(rf_result.best_estimator_, \"\\n\")\n",
        "print(rf_result.best_params_, \"\\n\")"
      ],
      "execution_count": null,
      "outputs": [
        {
          "output_type": "stream",
          "name": "stdout",
          "text": [
            "\n",
            " 0.7619047619047619 \n",
            "\n",
            "RandomForestClassifier(criterion='entropy', max_depth=16, max_features='sqrt',\n",
            "                       n_jobs=-1) \n",
            "\n",
            "{'criterion': 'entropy', 'max_depth': 16, 'max_features': 'sqrt', 'n_estimators': 100, 'n_jobs': -1} \n",
            "\n"
          ]
        }
      ]
    },
    {
      "cell_type": "code",
      "metadata": {
        "id": "GPH8OFKr9XAg"
      },
      "source": [
        "# Model with best parameters obtained after GridSearchCV\n",
        "rf_model = RandomForestClassifier(**rf_result.best_params_)\n",
        "rf_model.fit(X_train_rf, y_train_rf)\n",
        "rf_predictions = rf_model.predict(X_test_rf)"
      ],
      "execution_count": null,
      "outputs": []
    },
    {
      "cell_type": "code",
      "metadata": {
        "colab": {
          "base_uri": "https://localhost:8080/"
        },
        "id": "jR1R9gdL_McT",
        "outputId": "5a3e1399-6733-4699-8f5f-5745d147045e"
      },
      "source": [
        "print(\"Score: \", rf_model.score(X_test_rf, y_test_rf))"
      ],
      "execution_count": null,
      "outputs": [
        {
          "output_type": "stream",
          "name": "stdout",
          "text": [
            "Score:  0.5945945945945946\n"
          ]
        }
      ]
    },
    {
      "cell_type": "code",
      "metadata": {
        "id": "1dRbmoK2_oJS"
      },
      "source": [
        "predictions.append([rf_predictions, y_test_rf])"
      ],
      "execution_count": null,
      "outputs": []
    },
    {
      "cell_type": "markdown",
      "metadata": {
        "id": "Os1ltM5s9o8F"
      },
      "source": [
        "#### **7. SVM**"
      ]
    },
    {
      "cell_type": "code",
      "metadata": {
        "id": "_Xee0ENfAeeZ"
      },
      "source": [
        "X_train_svm, X_test_svm, y_train_svm, y_test_svm = train_test_split(data, labels, test_size=0.3)"
      ],
      "execution_count": null,
      "outputs": []
    },
    {
      "cell_type": "code",
      "metadata": {
        "colab": {
          "base_uri": "https://localhost:8080/"
        },
        "id": "AZJSUhvC-sGK",
        "outputId": "4b915a22-9297-4e0e-b1b5-fb10ff520143"
      },
      "source": [
        "parameters = {\n",
        "    \"C\": [0.001, 0.01, 0.1, 1.],\n",
        "    \"kernel\": [\"linear\", \"poly\", \"rbf\", \"sigmoid\"],\n",
        "    \"gamma\": [\"scale\", \"auto\"],\n",
        "}\n",
        "\n",
        "model_svc = SVC(class_weight=\"balanced\",\n",
        "                probability=True,)\n",
        "\n",
        "model_svc = GridSearchCV(model_svc, \n",
        "                         parameters, \n",
        "                         cv=5,\n",
        "                         scoring='accuracy')\n",
        "\n",
        "model_svc.fit(X_train_svm, y_train_svm)\n",
        "\n",
        "print(f'Best parameters {model_svc.best_params_}')\n",
        "print(f'Mean cross-validated accuracy score of the best_estimator: ' +  f'{model_svc.best_score_:.3f}')"
      ],
      "execution_count": null,
      "outputs": [
        {
          "output_type": "stream",
          "name": "stdout",
          "text": [
            "Best parameters {'C': 0.1, 'gamma': 'scale', 'kernel': 'poly'}\n",
            "Mean cross-validated accuracy score of the best_estimator: 0.669\n"
          ]
        }
      ]
    },
    {
      "cell_type": "code",
      "metadata": {
        "id": "Ffnswm5NA8fC"
      },
      "source": [
        "# Model with best parameters obtained after GridSearchCV\n",
        "svm_model = SVC(**model_svc.best_params_)\n",
        "svm_model.fit(X_train_svm, y_train_svm)\n",
        "svm_predictions = svm_model.predict(X_test_svm)"
      ],
      "execution_count": null,
      "outputs": []
    },
    {
      "cell_type": "code",
      "metadata": {
        "colab": {
          "base_uri": "https://localhost:8080/"
        },
        "id": "thD7hKlYCOkn",
        "outputId": "a0155703-b4da-47a4-9cbd-f3159a2b726a"
      },
      "source": [
        "print(\"Score: \", svm_model.score(X_test_svm, y_test_svm))"
      ],
      "execution_count": null,
      "outputs": [
        {
          "output_type": "stream",
          "name": "stdout",
          "text": [
            "Score:  0.7837837837837838\n"
          ]
        }
      ]
    },
    {
      "cell_type": "code",
      "metadata": {
        "id": "igDjaz-_CUi3"
      },
      "source": [
        "predictions.append([svm_predictions, y_test_svm])"
      ],
      "execution_count": null,
      "outputs": []
    },
    {
      "cell_type": "markdown",
      "metadata": {
        "id": "dCb8c3HACY7d"
      },
      "source": [
        "### **Unsupervised approach:**"
      ]
    },
    {
      "cell_type": "markdown",
      "metadata": {
        "id": "dEbRUxnfCpS5"
      },
      "source": [
        "#### **1. PCA (Dimensionality Reduction)**"
      ]
    },
    {
      "cell_type": "code",
      "metadata": {
        "id": "7Gw4NNY1C9pJ"
      },
      "source": [
        "X = EEG_data[columns]\n",
        "Y = EEG_data['Class']"
      ],
      "execution_count": null,
      "outputs": []
    },
    {
      "cell_type": "code",
      "metadata": {
        "colab": {
          "base_uri": "https://localhost:8080/",
          "height": 388
        },
        "id": "rcZ0csXrOAeF",
        "outputId": "291cfb76-e874-4b87-dfab-62195ad9d609"
      },
      "source": [
        "# Calculating covariance matrix\n",
        "cov_matrix = np.cov(X.T)\n",
        "#print(\"cov_matrix shape:\",cov_matrix.shape)\n",
        "#print(\"Covariance_matrix\",cov_matrix)\n",
        "\n",
        "# Calculating Eigen Vectors and Eigen Values\n",
        "eigenvalues, eigenvectors = np.linalg.eig(cov_matrix)\n",
        "#print('Eigen Vectors \\n%s', eigenvectors)\n",
        "#print('\\n Eigen Values \\n%s', eigenvalues)\n",
        "\n",
        "# Make a set of (eigenvalue, eigenvector) pairs\n",
        "eig_pairs = [(eigenvalues[index], eigenvectors[:,index]) for index in range(len(eigenvalues))]\n",
        "\n",
        "# Sort the (eigenvalue, eigenvector) pairs from highest to lowest with respect to eigenvalue\n",
        "eig_pairs.sort()\n",
        "\n",
        "eig_pairs.reverse()\n",
        "#print(eig_pairs)\n",
        "\n",
        "# Extract the descending ordered eigenvalues and eigenvectors\n",
        "eigvalues_sorted = [eig_pairs[index][0] for index in range(len(eigenvalues))]\n",
        "eigvectors_sorted = [eig_pairs[index][1] for index in range(len(eigenvalues))]\n",
        "\n",
        "#print('Eigenvalues in descending order: \\n%s' %eigvalues_sorted)\n",
        "tot = sum(eigenvalues)\n",
        "var_explained = [(i / tot) for i in sorted(eigenvalues, reverse=True)] \n",
        "cum_var_exp = np.cumsum(var_explained) \n",
        "\n",
        "plt.figure(figsize = (10, 6))\n",
        "plt.bar(range(1,20), var_explained, alpha=0.5, align='center', label='individual explained variance')\n",
        "plt.step(range(1, 20),cum_var_exp, where= 'mid', label='cumulative explained variance')\n",
        "plt.ylabel('Explained variance ratio')\n",
        "plt.xlabel('Principal components')\n",
        "plt.legend(loc='best')\n",
        "plt.show()"
      ],
      "execution_count": null,
      "outputs": [
        {
          "output_type": "display_data",
          "data": {
            "image/png": "[encoded data removed]",
            "text/plain": [
              "<Figure size 720x432 with 1 Axes>"
            ]
          },
          "metadata": {
            "needs_background": "light"
          }
        }
      ]
    },
    {
      "cell_type": "code",
      "metadata": {
        "colab": {
          "base_uri": "https://localhost:8080/",
          "height": 442
        },
        "id": "cjEr6iGtXNXX",
        "outputId": "fc3de81e-985e-440c-cbae-c9202ead3a46"
      },
      "source": [
        "pca = PCA().fit(EEG_data[columns])\n",
        "\n",
        "plt.figure(figsize=(10,7))\n",
        "plt.plot(np.cumsum(pca.explained_variance_ratio_), color='k', lw=2)\n",
        "plt.xlabel('Number of components')\n",
        "plt.ylabel('Total explained variance')\n",
        "plt.xlim(0, 20)\n",
        "plt.yticks(np.arange(0, 1.1, 0.1))\n",
        "plt.axvline(8, c='b')\n",
        "plt.axhline(0.98, c='r')\n",
        "plt.show();"
      ],
      "execution_count": null,
      "outputs": [
        {
          "output_type": "display_data",
          "data": {
            "image/png": "[encoded data removed]",
            "text/plain": [
              "<Figure size 720x504 with 1 Axes>"
            ]
          },
          "metadata": {
            "needs_background": "light"
          }
        }
      ]
    },
    {
      "cell_type": "markdown",
      "metadata": {
        "id": "hn5aXX4tOejX"
      },
      "source": [
        "We can see that 8 dimensions are able to explain 98 %variance of data. Therefore the optimum number of dimensions to explain the data is 8"
      ]
    },
    {
      "cell_type": "code",
      "metadata": {
        "colab": {
          "base_uri": "https://localhost:8080/",
          "height": 423
        },
        "id": "Nguq7nXNQhPt",
        "outputId": "0e85fe2e-a0a6-49ee-d7d5-baa91e8c7d4e"
      },
      "source": [
        "pca = PCA(n_components=8)\n",
        "pca.fit(X)\n",
        "transformed_data = pca.transform(X)\n",
        "transformed_data = pd.DataFrame(transformed_data)\n",
        "transformed_data"
      ],
      "execution_count": null,
      "outputs": [
        {
          "output_type": "execute_result",
          "data": {
            "text/html": [
              "<div>\n",
              "<style scoped>\n",
              "    .dataframe tbody tr th:only-of-type {\n",
              "        vertical-align: middle;\n",
              "    }\n",
              "\n",
              "    .dataframe tbody tr th {\n",
              "        vertical-align: top;\n",
              "    }\n",
              "\n",
              "    .dataframe thead th {\n",
              "        text-align: right;\n",
              "    }\n",
              "</style>\n",
              "<table border=\"1\" class=\"dataframe\">\n",
              "  <thead>\n",
              "    <tr style=\"text-align: right;\">\n",
              "      <th></th>\n",
              "      <th>0</th>\n",
              "      <th>1</th>\n",
              "      <th>2</th>\n",
              "      <th>3</th>\n",
              "      <th>4</th>\n",
              "      <th>5</th>\n",
              "      <th>6</th>\n",
              "      <th>7</th>\n",
              "    </tr>\n",
              "  </thead>\n",
              "  <tbody>\n",
              "    <tr>\n",
              "      <th>0</th>\n",
              "      <td>0.290807</td>\n",
              "      <td>0.029615</td>\n",
              "      <td>-0.166719</td>\n",
              "      <td>0.035281</td>\n",
              "      <td>-0.007171</td>\n",
              "      <td>0.028714</td>\n",
              "      <td>-0.086541</td>\n",
              "      <td>-0.025974</td>\n",
              "    </tr>\n",
              "    <tr>\n",
              "      <th>1</th>\n",
              "      <td>-0.511962</td>\n",
              "      <td>-0.058220</td>\n",
              "      <td>-0.132909</td>\n",
              "      <td>-0.016711</td>\n",
              "      <td>0.011811</td>\n",
              "      <td>-0.019555</td>\n",
              "      <td>0.000478</td>\n",
              "      <td>0.010599</td>\n",
              "    </tr>\n",
              "    <tr>\n",
              "      <th>2</th>\n",
              "      <td>-0.075960</td>\n",
              "      <td>-0.128549</td>\n",
              "      <td>-0.148499</td>\n",
              "      <td>0.102536</td>\n",
              "      <td>-0.000475</td>\n",
              "      <td>-0.024022</td>\n",
              "      <td>-0.005377</td>\n",
              "      <td>0.017624</td>\n",
              "    </tr>\n",
              "    <tr>\n",
              "      <th>3</th>\n",
              "      <td>-0.528456</td>\n",
              "      <td>0.103499</td>\n",
              "      <td>0.037467</td>\n",
              "      <td>0.080047</td>\n",
              "      <td>-0.067662</td>\n",
              "      <td>-0.001044</td>\n",
              "      <td>0.043185</td>\n",
              "      <td>0.006911</td>\n",
              "    </tr>\n",
              "    <tr>\n",
              "      <th>4</th>\n",
              "      <td>-0.158252</td>\n",
              "      <td>-0.252616</td>\n",
              "      <td>-0.060074</td>\n",
              "      <td>0.009444</td>\n",
              "      <td>-0.015381</td>\n",
              "      <td>-0.062699</td>\n",
              "      <td>0.009878</td>\n",
              "      <td>-0.010174</td>\n",
              "    </tr>\n",
              "    <tr>\n",
              "      <th>...</th>\n",
              "      <td>...</td>\n",
              "      <td>...</td>\n",
              "      <td>...</td>\n",
              "      <td>...</td>\n",
              "      <td>...</td>\n",
              "      <td>...</td>\n",
              "      <td>...</td>\n",
              "      <td>...</td>\n",
              "    </tr>\n",
              "    <tr>\n",
              "      <th>116</th>\n",
              "      <td>-0.194297</td>\n",
              "      <td>-0.115740</td>\n",
              "      <td>-0.061877</td>\n",
              "      <td>-0.211964</td>\n",
              "      <td>0.113749</td>\n",
              "      <td>-0.097704</td>\n",
              "      <td>0.038871</td>\n",
              "      <td>-0.055237</td>\n",
              "    </tr>\n",
              "    <tr>\n",
              "      <th>117</th>\n",
              "      <td>0.726734</td>\n",
              "      <td>-0.562858</td>\n",
              "      <td>-0.075889</td>\n",
              "      <td>0.002642</td>\n",
              "      <td>0.023364</td>\n",
              "      <td>-0.003365</td>\n",
              "      <td>0.016548</td>\n",
              "      <td>0.028634</td>\n",
              "    </tr>\n",
              "    <tr>\n",
              "      <th>118</th>\n",
              "      <td>0.149773</td>\n",
              "      <td>0.032702</td>\n",
              "      <td>-0.015308</td>\n",
              "      <td>-0.140025</td>\n",
              "      <td>0.010182</td>\n",
              "      <td>0.096612</td>\n",
              "      <td>0.056108</td>\n",
              "      <td>-0.069401</td>\n",
              "    </tr>\n",
              "    <tr>\n",
              "      <th>119</th>\n",
              "      <td>-0.116203</td>\n",
              "      <td>0.237488</td>\n",
              "      <td>0.168049</td>\n",
              "      <td>-0.010432</td>\n",
              "      <td>0.018679</td>\n",
              "      <td>0.017999</td>\n",
              "      <td>-0.056623</td>\n",
              "      <td>0.052717</td>\n",
              "    </tr>\n",
              "    <tr>\n",
              "      <th>120</th>\n",
              "      <td>-0.303066</td>\n",
              "      <td>-0.159229</td>\n",
              "      <td>-0.068930</td>\n",
              "      <td>-0.090357</td>\n",
              "      <td>0.011707</td>\n",
              "      <td>0.074483</td>\n",
              "      <td>-0.060967</td>\n",
              "      <td>0.014126</td>\n",
              "    </tr>\n",
              "  </tbody>\n",
              "</table>\n",
              "<p>121 rows × 8 columns</p>\n",
              "</div>"
            ],
            "text/plain": [
              "            0         1         2  ...         5         6         7\n",
              "0    0.290807  0.029615 -0.166719  ...  0.028714 -0.086541 -0.025974\n",
              "1   -0.511962 -0.058220 -0.132909  ... -0.019555  0.000478  0.010599\n",
              "2   -0.075960 -0.128549 -0.148499  ... -0.024022 -0.005377  0.017624\n",
              "3   -0.528456  0.103499  0.037467  ... -0.001044  0.043185  0.006911\n",
              "4   -0.158252 -0.252616 -0.060074  ... -0.062699  0.009878 -0.010174\n",
              "..        ...       ...       ...  ...       ...       ...       ...\n",
              "116 -0.194297 -0.115740 -0.061877  ... -0.097704  0.038871 -0.055237\n",
              "117  0.726734 -0.562858 -0.075889  ... -0.003365  0.016548  0.028634\n",
              "118  0.149773  0.032702 -0.015308  ...  0.096612  0.056108 -0.069401\n",
              "119 -0.116203  0.237488  0.168049  ...  0.017999 -0.056623  0.052717\n",
              "120 -0.303066 -0.159229 -0.068930  ...  0.074483 -0.060967  0.014126\n",
              "\n",
              "[121 rows x 8 columns]"
            ]
          },
          "metadata": {},
          "execution_count": 72
        }
      ]
    },
    {
      "cell_type": "markdown",
      "metadata": {
        "id": "WOa_ofzbV0Zs"
      },
      "source": [
        "Reduced datasets"
      ]
    },
    {
      "cell_type": "markdown",
      "metadata": {
        "id": "vI2bf4gmWFzQ"
      },
      "source": [
        "#### **2. K-Means Clustering**"
      ]
    },
    {
      "cell_type": "markdown",
      "metadata": {
        "id": "KgWETpGodWnF"
      },
      "source": [
        "K-Means on reduced dimension dataset"
      ]
    },
    {
      "cell_type": "code",
      "metadata": {
        "id": "CyB0zRawgdhO"
      },
      "source": [
        "X_train_k_pc, X_test_k_pc, y_train_k_pc, y_test_k_pc = train_test_split(transformed_data, Y, test_size=0.3)"
      ],
      "execution_count": null,
      "outputs": []
    },
    {
      "cell_type": "code",
      "metadata": {
        "id": "zraIJ_K3db-W"
      },
      "source": [
        "# Finding optimal number of clusters using Elbow method\n",
        "kmeans_params = {\"init\": \"random\",\n",
        "                 \"n_init\": 10,\n",
        "                 \"max_iter\": 300,\n",
        "                 \"random_state\": 42}\n",
        "\n",
        "# A list holds the SSE values for each k\n",
        "sse = []\n",
        "for k in range(1, 11):\n",
        "  kmeans = KMeans(n_clusters=k, **kmeans_params)\n",
        "  kmeans.fit(X_train_k_pc)\n",
        "  sse.append(kmeans.inertia_)"
      ],
      "execution_count": null,
      "outputs": []
    },
    {
      "cell_type": "code",
      "metadata": {
        "colab": {
          "base_uri": "https://localhost:8080/",
          "height": 281
        },
        "id": "SNoPEJKcdgDQ",
        "outputId": "f0f0aa95-eb7c-4f17-c8ad-49d404821a21"
      },
      "source": [
        "plt.plot(range(1, 11), sse, marker='s');\n",
        "plt.xlabel('$k$')\n",
        "plt.ylabel('$SSE$');"
      ],
      "execution_count": null,
      "outputs": [
        {
          "output_type": "display_data",
          "data": {
            "image/png": "[encoded data removed]",
            "text/plain": [
              "<Figure size 432x288 with 1 Axes>"
            ]
          },
          "metadata": {
            "needs_background": "light"
          }
        }
      ]
    },
    {
      "cell_type": "code",
      "metadata": {
        "id": "SfxG7TqpdnGS"
      },
      "source": [
        "kmeans = KMeans(n_clusters=2, max_iter=50)\n",
        "kmeans.fit(X_test_k_pc)\n",
        "kmeans_labels_pca = kmeans.labels_"
      ],
      "execution_count": null,
      "outputs": []
    },
    {
      "cell_type": "code",
      "metadata": {
        "colab": {
          "base_uri": "https://localhost:8080/"
        },
        "id": "lzNIbPaBdqah",
        "outputId": "d5ac0a0e-b260-4e84-9fac-e45c4494c427"
      },
      "source": [
        "(kmeans_labels_pca == y_test_k_pc).sum() / len(kmeans_labels_pca)"
      ],
      "execution_count": null,
      "outputs": [
        {
          "output_type": "execute_result",
          "data": {
            "text/plain": [
              "0.5405405405405406"
            ]
          },
          "metadata": {},
          "execution_count": 80
        }
      ]
    },
    {
      "cell_type": "markdown",
      "metadata": {
        "id": "OcZaxRejdu2t"
      },
      "source": [
        "K-Means on dataset that hasn't been reduced to 8 dimensions"
      ]
    },
    {
      "cell_type": "code",
      "metadata": {
        "id": "H3nJ_ipMhHxi"
      },
      "source": [
        "X_train_k, X_test_k, y_train_k, y_test_k = train_test_split(EEG_data[columns], EEG_data['Class'], test_size=0.3)"
      ],
      "execution_count": null,
      "outputs": []
    },
    {
      "cell_type": "code",
      "metadata": {
        "id": "eoAMC0f6WW7E"
      },
      "source": [
        "# Finding optimal number of clusters using Elbow method\n",
        "kmeans_params = {\"init\": \"random\",\n",
        "                 \"n_init\": 10,\n",
        "                 \"max_iter\": 300,\n",
        "                 \"random_state\": 42}\n",
        "\n",
        "# A list holds the SSE values for each k\n",
        "sse = []\n",
        "for k in range(1, 11):\n",
        "  kmeans = KMeans(n_clusters=k, **kmeans_params)\n",
        "  kmeans.fit(X_train_k)\n",
        "  sse.append(kmeans.inertia_)"
      ],
      "execution_count": null,
      "outputs": []
    },
    {
      "cell_type": "code",
      "metadata": {
        "colab": {
          "base_uri": "https://localhost:8080/",
          "height": 281
        },
        "id": "5ge_5yN9Y5ZU",
        "outputId": "82231374-3f3f-45f8-edc9-da7dd9a67f2c"
      },
      "source": [
        "plt.plot(range(1, 11), sse, marker='s');\n",
        "plt.xlabel('$k$')\n",
        "plt.ylabel('$SSE$');"
      ],
      "execution_count": null,
      "outputs": [
        {
          "output_type": "display_data",
          "data": {
            "image/png": "[encoded data removed]",
            "text/plain": [
              "<Figure size 432x288 with 1 Axes>"
            ]
          },
          "metadata": {
            "needs_background": "light"
          }
        }
      ]
    },
    {
      "cell_type": "markdown",
      "metadata": {
        "id": "xQlZxg8OZ_JM"
      },
      "source": [
        "We see that SSE decreases significantly until the number of clusters is 2 and then does not change as much anymore. This means that the optimal number of clusters is 2."
      ]
    },
    {
      "cell_type": "code",
      "metadata": {
        "id": "qwCBMycuaVvm"
      },
      "source": [
        "kmeans = KMeans(n_clusters=2, max_iter=50)\n",
        "kmeans.fit(X_test_k)\n",
        "kmeans_labels = kmeans.labels_"
      ],
      "execution_count": null,
      "outputs": []
    },
    {
      "cell_type": "code",
      "metadata": {
        "colab": {
          "base_uri": "https://localhost:8080/"
        },
        "id": "pdRsedAfdMJz",
        "outputId": "ddb4e9d3-60df-4460-e0d2-f9571f1b6c27"
      },
      "source": [
        "(kmeans_labels == y_test_k).sum() / len(kmeans_labels)"
      ],
      "execution_count": null,
      "outputs": [
        {
          "output_type": "execute_result",
          "data": {
            "text/plain": [
              "0.3783783783783784"
            ]
          },
          "metadata": {},
          "execution_count": 86
        }
      ]
    },
    {
      "cell_type": "code",
      "metadata": {
        "id": "865_sFj3bcfb"
      },
      "source": [
        "predictions.append([kmeans_labels_pca, y_test_k_pc])"
      ],
      "execution_count": null,
      "outputs": []
    },
    {
      "cell_type": "markdown",
      "metadata": {
        "id": "93Tkt5WpbvsZ"
      },
      "source": [
        "## Evaluation Metrics:\n"
      ]
    },
    {
      "cell_type": "code",
      "metadata": {
        "id": "94yOLu5OfBUO"
      },
      "source": [
        "def evaluate_results(predictions, y_test, classifier_name):\n",
        "  \"\"\"\n",
        "  This is a function that calculates and prints the evaluation metrics.\n",
        "\n",
        "  Arguments: \n",
        "  predictions - predictions of the model\n",
        "  y_test - true values\n",
        "  classifier_name - algorithm used to classify the model\n",
        "  \"\"\"\n",
        "  accuracy = accuracy_score(y_test, predictions)\n",
        "  f1_scores = f1_score(y_test, predictions, average='micro')\n",
        "  precision = precision_score(y_test, predictions, average=\"weighted\")\n",
        "  recall = recall_score(y_test, predictions, average=\"weighted\")\n",
        " \n",
        "  print(\"-------------------------------------------------------------------\")\n",
        "  print(f\"    \\t{classifier_name} CLASSIFIER RESULTS   \")\n",
        "  print(\"Accuracy  :\", accuracy)\n",
        "  print(\"F1 Score  : \", f1_scores)\n",
        "  print(\"Precision  :\", precision)\n",
        "  print(\"Recall  : \", recall)\n",
        "  print(f\"\\n\\t\\tCLASSIFICATION REPORT OF {classifier_name} CLASSIFIER\")\n",
        "  print(\" \")\n",
        "  print(classification_report(y_test, predictions))\n",
        "  print(\"-------------------------------------------------------------------\")\n",
        "  return accuracy "
      ],
      "execution_count": null,
      "outputs": []
    },
    {
      "cell_type": "code",
      "metadata": {
        "id": "9-ES5Yian_4B"
      },
      "source": [
        "def plot_confusion_matrix(y_test, predictions, classifier_name):\n",
        "  # Confusion matrix\n",
        "  print(f\"    \\t{classifier_name} CLASSIFIER RESULTS   \")\n",
        "  ax= plt.subplot()\n",
        "  sns.heatmap(confusion_matrix(y_test, predictions), annot=True, ax = ax, cmap = \"BuPu\");\n",
        "  # labels, title and ticks\n",
        "  ax.set_xlabel(\"Predicted labels\")\n",
        "  ax.set_ylabel(\"True labels\")\n",
        "  ax.set_title(\"Confusion Matrix\")\n",
        "  ax.xaxis.set_ticklabels([\"Control\", \"ADHD\"])\n",
        "  ax.yaxis.set_ticklabels([\"Control\", \"ADHD\"])"
      ],
      "execution_count": null,
      "outputs": []
    },
    {
      "cell_type": "code",
      "metadata": {
        "colab": {
          "base_uri": "https://localhost:8080/"
        },
        "id": "9-IbwEpiejFz",
        "outputId": "43abf22d-5c67-4e39-cf07-da63eec0bacb"
      },
      "source": [
        "models = [\"Perceptron\", \"Logistic Regression\", \"KNN\", \"Naive Bayes\", \"Decision trees\", \"Random Forests\", \"SVM\", \"K-Means\"]\n",
        "accuracies = []\n",
        "for i in range(len(models)):\n",
        "  accuracies.append(evaluate_results(predictions[i][0], predictions[i][1], models[i]))"
      ],
      "execution_count": null,
      "outputs": [
        {
          "output_type": "stream",
          "name": "stdout",
          "text": [
            "-------------------------------------------------------------------\n",
            "    \tPerceptron CLASSIFIER RESULTS   \n",
            "Accuracy  : 0.4594594594594595\n",
            "F1 Score  :  0.4594594594594595\n",
            "Precision  : 0.7597597597597597\n",
            "Recall  :  0.4594594594594595\n",
            "\n",
            "\t\tCLASSIFICATION REPORT OF Perceptron CLASSIFIER\n",
            " \n",
            "              precision    recall  f1-score   support\n",
            "\n",
            "           0       0.44      1.00      0.62        16\n",
            "           1       1.00      0.05      0.09        21\n",
            "\n",
            "    accuracy                           0.46        37\n",
            "   macro avg       0.72      0.52      0.35        37\n",
            "weighted avg       0.76      0.46      0.32        37\n",
            "\n",
            "-------------------------------------------------------------------\n",
            "-------------------------------------------------------------------\n",
            "    \tLogistic Regression CLASSIFIER RESULTS   \n",
            "Accuracy  : 0.7027027027027027\n",
            "F1 Score  :  0.7027027027027027\n",
            "Precision  : 0.7853430353430354\n",
            "Recall  :  0.7027027027027027\n",
            "\n",
            "\t\tCLASSIFICATION REPORT OF Logistic Regression CLASSIFIER\n",
            " \n",
            "              precision    recall  f1-score   support\n",
            "\n",
            "           0       0.92      0.55      0.69        22\n",
            "           1       0.58      0.93      0.72        15\n",
            "\n",
            "    accuracy                           0.70        37\n",
            "   macro avg       0.75      0.74      0.70        37\n",
            "weighted avg       0.79      0.70      0.70        37\n",
            "\n",
            "-------------------------------------------------------------------\n",
            "-------------------------------------------------------------------\n",
            "    \tKNN CLASSIFIER RESULTS   \n",
            "Accuracy  : 0.6216216216216216\n",
            "F1 Score  :  0.6216216216216216\n",
            "Precision  : 0.6216216216216216\n",
            "Recall  :  0.6216216216216216\n",
            "\n",
            "\t\tCLASSIFICATION REPORT OF KNN CLASSIFIER\n",
            " \n",
            "              precision    recall  f1-score   support\n",
            "\n",
            "           0       0.61      0.61      0.61        18\n",
            "           1       0.63      0.63      0.63        19\n",
            "\n",
            "    accuracy                           0.62        37\n",
            "   macro avg       0.62      0.62      0.62        37\n",
            "weighted avg       0.62      0.62      0.62        37\n",
            "\n",
            "-------------------------------------------------------------------\n",
            "-------------------------------------------------------------------\n",
            "    \tNaive Bayes CLASSIFIER RESULTS   \n",
            "Accuracy  : 0.5945945945945946\n",
            "F1 Score  :  0.5945945945945946\n",
            "Precision  : 0.595995995995996\n",
            "Recall  :  0.5945945945945946\n",
            "\n",
            "\t\tCLASSIFICATION REPORT OF Naive Bayes CLASSIFIER\n",
            " \n",
            "              precision    recall  f1-score   support\n",
            "\n",
            "           0       0.60      0.35      0.44        17\n",
            "           1       0.59      0.80      0.68        20\n",
            "\n",
            "    accuracy                           0.59        37\n",
            "   macro avg       0.60      0.58      0.56        37\n",
            "weighted avg       0.60      0.59      0.57        37\n",
            "\n",
            "-------------------------------------------------------------------\n",
            "-------------------------------------------------------------------\n",
            "    \tDecision trees CLASSIFIER RESULTS   \n",
            "Accuracy  : 0.5405405405405406\n",
            "F1 Score  :  0.5405405405405406\n",
            "Precision  : 0.5395577395577394\n",
            "Recall  :  0.5405405405405406\n",
            "\n",
            "\t\tCLASSIFICATION REPORT OF Decision trees CLASSIFIER\n",
            " \n",
            "              precision    recall  f1-score   support\n",
            "\n",
            "           0       0.53      0.44      0.48        18\n",
            "           1       0.55      0.63      0.59        19\n",
            "\n",
            "    accuracy                           0.54        37\n",
            "   macro avg       0.54      0.54      0.54        37\n",
            "weighted avg       0.54      0.54      0.54        37\n",
            "\n",
            "-------------------------------------------------------------------\n",
            "-------------------------------------------------------------------\n",
            "    \tRandom Forests CLASSIFIER RESULTS   \n",
            "Accuracy  : 0.5945945945945946\n",
            "F1 Score  :  0.5945945945945946\n",
            "Precision  : 0.7201611549437635\n",
            "Recall  :  0.5945945945945946\n",
            "\n",
            "\t\tCLASSIFICATION REPORT OF Random Forests CLASSIFIER\n",
            " \n",
            "              precision    recall  f1-score   support\n",
            "\n",
            "           0       0.43      0.83      0.57        12\n",
            "           1       0.86      0.48      0.62        25\n",
            "\n",
            "    accuracy                           0.59        37\n",
            "   macro avg       0.65      0.66      0.59        37\n",
            "weighted avg       0.72      0.59      0.60        37\n",
            "\n",
            "-------------------------------------------------------------------\n",
            "-------------------------------------------------------------------\n",
            "    \tSVM CLASSIFIER RESULTS   \n",
            "Accuracy  : 0.7837837837837838\n",
            "F1 Score  :  0.7837837837837838\n",
            "Precision  : 0.7837837837837838\n",
            "Recall  :  0.7837837837837838\n",
            "\n",
            "\t\tCLASSIFICATION REPORT OF SVM CLASSIFIER\n",
            " \n",
            "              precision    recall  f1-score   support\n",
            "\n",
            "           0       0.78      0.78      0.78        18\n",
            "           1       0.79      0.79      0.79        19\n",
            "\n",
            "    accuracy                           0.78        37\n",
            "   macro avg       0.78      0.78      0.78        37\n",
            "weighted avg       0.78      0.78      0.78        37\n",
            "\n",
            "-------------------------------------------------------------------\n",
            "-------------------------------------------------------------------\n",
            "    \tK-Means CLASSIFIER RESULTS   \n",
            "Accuracy  : 0.5405405405405406\n",
            "F1 Score  :  0.5405405405405406\n",
            "Precision  : 0.5440381558028616\n",
            "Recall  :  0.5405405405405406\n",
            "\n",
            "\t\tCLASSIFICATION REPORT OF K-Means CLASSIFIER\n",
            " \n",
            "              precision    recall  f1-score   support\n",
            "\n",
            "           0       0.60      0.57      0.59        21\n",
            "           1       0.47      0.50      0.48        16\n",
            "\n",
            "    accuracy                           0.54        37\n",
            "   macro avg       0.54      0.54      0.54        37\n",
            "weighted avg       0.54      0.54      0.54        37\n",
            "\n",
            "-------------------------------------------------------------------\n"
          ]
        }
      ]
    },
    {
      "cell_type": "code",
      "metadata": {
        "colab": {
          "base_uri": "https://localhost:8080/",
          "height": 313
        },
        "id": "Kh7m6zJiom-H",
        "outputId": "70bb6d8f-b3d4-4390-9b67-c9219fe9c5f0"
      },
      "source": [
        "plot_confusion_matrix(predictions[0][1], predictions[0][0], models[0])"
      ],
      "execution_count": null,
      "outputs": [
        {
          "output_type": "stream",
          "name": "stdout",
          "text": [
            "    \tPerceptron CLASSIFIER RESULTS   \n"
          ]
        },
        {
          "output_type": "display_data",
          "data": {
            "image/png": "[encoded data removed]",
            "text/plain": [
              "<Figure size 432x288 with 2 Axes>"
            ]
          },
          "metadata": {
            "needs_background": "light"
          }
        }
      ]
    },
    {
      "cell_type": "code",
      "metadata": {
        "colab": {
          "base_uri": "https://localhost:8080/",
          "height": 313
        },
        "id": "p_FueMICrCXM",
        "outputId": "344c3c99-9f7b-425e-ccbe-59e3e4a54c8c"
      },
      "source": [
        "plot_confusion_matrix(predictions[1][1], predictions[1][0], models[1])"
      ],
      "execution_count": null,
      "outputs": [
        {
          "output_type": "stream",
          "name": "stdout",
          "text": [
            "    \tLogistic Regression CLASSIFIER RESULTS   \n"
          ]
        },
        {
          "output_type": "display_data",
          "data": {
            "image/png": "[encoded data removed]",
            "text/plain": [
              "<Figure size 432x288 with 2 Axes>"
            ]
          },
          "metadata": {
            "needs_background": "light"
          }
        }
      ]
    },
    {
      "cell_type": "code",
      "metadata": {
        "colab": {
          "base_uri": "https://localhost:8080/",
          "height": 313
        },
        "id": "uDAh06uYrGZR",
        "outputId": "dc39cc77-32f7-4eca-9722-a196df0a0bb4"
      },
      "source": [
        "plot_confusion_matrix(predictions[2][1], predictions[2][0], models[2])"
      ],
      "execution_count": null,
      "outputs": [
        {
          "output_type": "stream",
          "name": "stdout",
          "text": [
            "    \tKNN CLASSIFIER RESULTS   \n"
          ]
        },
        {
          "output_type": "display_data",
          "data": {
            "image/png": "[encoded data removed]",
            "text/plain": [
              "<Figure size 432x288 with 2 Axes>"
            ]
          },
          "metadata": {
            "needs_background": "light"
          }
        }
      ]
    },
    {
      "cell_type": "code",
      "metadata": {
        "colab": {
          "base_uri": "https://localhost:8080/",
          "height": 313
        },
        "id": "S6qkhLJvrTLX",
        "outputId": "4778091c-fc8a-4cf5-dc85-931a6fe74a0c"
      },
      "source": [
        "plot_confusion_matrix(predictions[3][1], predictions[3][0], models[3])"
      ],
      "execution_count": null,
      "outputs": [
        {
          "output_type": "stream",
          "name": "stdout",
          "text": [
            "    \tNaive Bayes CLASSIFIER RESULTS   \n"
          ]
        },
        {
          "output_type": "display_data",
          "data": {
            "image/png": "[encoded data removed]",
            "text/plain": [
              "<Figure size 432x288 with 2 Axes>"
            ]
          },
          "metadata": {
            "needs_background": "light"
          }
        }
      ]
    },
    {
      "cell_type": "code",
      "metadata": {
        "colab": {
          "base_uri": "https://localhost:8080/",
          "height": 313
        },
        "id": "RQgngV13rVmN",
        "outputId": "d9a9ba4a-210c-48a5-e2b9-f954460af58a"
      },
      "source": [
        "plot_confusion_matrix(predictions[4][1], predictions[4][0], models[4])"
      ],
      "execution_count": null,
      "outputs": [
        {
          "output_type": "stream",
          "name": "stdout",
          "text": [
            "    \tDecision trees CLASSIFIER RESULTS   \n"
          ]
        },
        {
          "output_type": "display_data",
          "data": {
            "image/png": "[encoded data removed]",
            "text/plain": [
              "<Figure size 432x288 with 2 Axes>"
            ]
          },
          "metadata": {
            "needs_background": "light"
          }
        }
      ]
    },
    {
      "cell_type": "code",
      "metadata": {
        "colab": {
          "base_uri": "https://localhost:8080/",
          "height": 313
        },
        "id": "gOkM1fuwrXn2",
        "outputId": "91785252-4a27-4199-e54c-9164db908256"
      },
      "source": [
        "plot_confusion_matrix(predictions[5][1], predictions[5][0], models[5])"
      ],
      "execution_count": null,
      "outputs": [
        {
          "output_type": "stream",
          "name": "stdout",
          "text": [
            "    \tRandom Forests CLASSIFIER RESULTS   \n"
          ]
        },
        {
          "output_type": "display_data",
          "data": {
            "image/png": "[encoded data removed]",
            "text/plain": [
              "<Figure size 432x288 with 2 Axes>"
            ]
          },
          "metadata": {
            "needs_background": "light"
          }
        }
      ]
    },
    {
      "cell_type": "code",
      "metadata": {
        "colab": {
          "base_uri": "https://localhost:8080/",
          "height": 313
        },
        "id": "x8FXOQ_ZrZ7-",
        "outputId": "23f54a39-b69c-4b14-9c24-e10230677e28"
      },
      "source": [
        "plot_confusion_matrix(predictions[6][1], predictions[6][0], models[6])"
      ],
      "execution_count": null,
      "outputs": [
        {
          "output_type": "stream",
          "name": "stdout",
          "text": [
            "    \tSVM CLASSIFIER RESULTS   \n"
          ]
        },
        {
          "output_type": "display_data",
          "data": {
            "image/png": "[encoded data removed]",
            "text/plain": [
              "<Figure size 432x288 with 2 Axes>"
            ]
          },
          "metadata": {
            "needs_background": "light"
          }
        }
      ]
    },
    {
      "cell_type": "code",
      "metadata": {
        "colab": {
          "base_uri": "https://localhost:8080/",
          "height": 313
        },
        "id": "1zkGKYp9rcBs",
        "outputId": "8dca52b9-c71e-465f-c7ee-816121458de4"
      },
      "source": [
        "plot_confusion_matrix(np.array(predictions[7][1]), predictions[7][0], models[7])"
      ],
      "execution_count": null,
      "outputs": [
        {
          "output_type": "stream",
          "name": "stdout",
          "text": [
            "    \tK-Means CLASSIFIER RESULTS   \n"
          ]
        },
        {
          "output_type": "display_data",
          "data": {
            "image/png": "[encoded data removed]",
            "text/plain": [
              "<Figure size 432x288 with 2 Axes>"
            ]
          },
          "metadata": {
            "needs_background": "light"
          }
        }
      ]
    },
    {
      "cell_type": "code",
      "metadata": {
        "colab": {
          "base_uri": "https://localhost:8080/",
          "height": 1000
        },
        "id": "zrvkf1WjtaEc",
        "outputId": "a1a2e85b-0fd3-47f8-a4b7-dc5eb4d187db"
      },
      "source": [
        "from sklearn.metrics import roc_curve,roc_auc_score\n",
        "for i in range(len(predictions)):\n",
        "  pred = predictions[i][0]\n",
        "  test = predictions[i][1]\n",
        "  fpr, tpr, thresholds = roc_curve(test, pred)\n",
        "  roc_auc = roc_auc_score(test, pred)\n",
        "  print(\"-----------------------------------------------------------------------------------------------\")\n",
        "  print(f\"\\nModel: {models[i]}\\n\")\n",
        "  print(f\"ROC_AUC score: {roc_auc}\")  \n",
        "  plt.plot(fpr, tpr, 'b', label = 'AUC = %0.2f' % roc_auc)\n",
        "  plt.legend(loc = 'lower right')\n",
        "  plt.title(\"ROC Curve\")\n",
        "  plt.plot([0, 1], [0, 1],'r--')\n",
        "  plt.xlim([0, 1])\n",
        "  plt.ylim([0, 1])\n",
        "  plt.ylabel('TPR')\n",
        "  plt.xlabel('FPR')\n",
        "  plt.show();\n",
        "  print(\"-----------------------------------------------------------------------------------------------\")\n",
        "  "
      ],
      "execution_count": null,
      "outputs": [
        {
          "output_type": "stream",
          "name": "stdout",
          "text": [
            "-----------------------------------------------------------------------------------------------\n",
            "\n",
            "Model: Perceptron\n",
            "\n",
            "ROC_AUC score: 0.5238095238095238\n"
          ]
        },
        {
          "output_type": "display_data",
          "data": {
            "image/png": "[encoded data removed]",
            "text/plain": [
              "<Figure size 432x288 with 1 Axes>"
            ]
          },
          "metadata": {
            "needs_background": "light"
          }
        },
        {
          "output_type": "stream",
          "name": "stdout",
          "text": [
            "-----------------------------------------------------------------------------------------------\n",
            "-----------------------------------------------------------------------------------------------\n",
            "\n",
            "Model: Logistic Regression\n",
            "\n",
            "ROC_AUC score: 0.7393939393939394\n"
          ]
        },
        {
          "output_type": "display_data",
          "data": {
            "image/png": "[encoded data removed]",
            "text/plain": [
              "<Figure size 432x288 with 1 Axes>"
            ]
          },
          "metadata": {
            "needs_background": "light"
          }
        },
        {
          "output_type": "stream",
          "name": "stdout",
          "text": [
            "-----------------------------------------------------------------------------------------------\n",
            "-----------------------------------------------------------------------------------------------\n",
            "\n",
            "Model: KNN\n",
            "\n",
            "ROC_AUC score: 0.6213450292397661\n"
          ]
        },
        {
          "output_type": "display_data",
          "data": {
            "image/png": "[encoded data removed]",
            "text/plain": [
              "<Figure size 432x288 with 1 Axes>"
            ]
          },
          "metadata": {
            "needs_background": "light"
          }
        },
        {
          "output_type": "stream",
          "name": "stdout",
          "text": [
            "-----------------------------------------------------------------------------------------------\n",
            "-----------------------------------------------------------------------------------------------\n",
            "\n",
            "Model: Naive Bayes\n",
            "\n",
            "ROC_AUC score: 0.5764705882352941\n"
          ]
        },
        {
          "output_type": "display_data",
          "data": {
            "image/png": "[encoded data removed]",
            "text/plain": [
              "<Figure size 432x288 with 1 Axes>"
            ]
          },
          "metadata": {
            "needs_background": "light"
          }
        },
        {
          "output_type": "stream",
          "name": "stdout",
          "text": [
            "-----------------------------------------------------------------------------------------------\n",
            "-----------------------------------------------------------------------------------------------\n",
            "\n",
            "Model: Decision trees\n",
            "\n",
            "ROC_AUC score: 0.5380116959064327\n"
          ]
        },
        {
          "output_type": "display_data",
          "data": {
            "image/png": "[encoded data removed]",
            "text/plain": [
              "<Figure size 432x288 with 1 Axes>"
            ]
          },
          "metadata": {
            "needs_background": "light"
          }
        },
        {
          "output_type": "stream",
          "name": "stdout",
          "text": [
            "-----------------------------------------------------------------------------------------------\n",
            "-----------------------------------------------------------------------------------------------\n",
            "\n",
            "Model: Random Forests\n",
            "\n",
            "ROC_AUC score: 0.6566666666666667\n"
          ]
        },
        {
          "output_type": "display_data",
          "data": {
            "image/png": "[encoded data removed]",
            "text/plain": [
              "<Figure size 432x288 with 1 Axes>"
            ]
          },
          "metadata": {
            "needs_background": "light"
          }
        },
        {
          "output_type": "stream",
          "name": "stdout",
          "text": [
            "-----------------------------------------------------------------------------------------------\n",
            "-----------------------------------------------------------------------------------------------\n",
            "\n",
            "Model: SVM\n",
            "\n",
            "ROC_AUC score: 0.7836257309941521\n"
          ]
        },
        {
          "output_type": "display_data",
          "data": {
            "image/png": "[encoded data removed]",
            "text/plain": [
              "<Figure size 432x288 with 1 Axes>"
            ]
          },
          "metadata": {
            "needs_background": "light"
          }
        },
        {
          "output_type": "stream",
          "name": "stdout",
          "text": [
            "-----------------------------------------------------------------------------------------------\n",
            "-----------------------------------------------------------------------------------------------\n",
            "\n",
            "Model: K-Means\n",
            "\n",
            "ROC_AUC score: 0.5357142857142857\n"
          ]
        },
        {
          "output_type": "display_data",
          "data": {
            "image/png": "[encoded data removed]",
            "text/plain": [
              "<Figure size 432x288 with 1 Axes>"
            ]
          },
          "metadata": {
            "needs_background": "light"
          }
        },
        {
          "output_type": "stream",
          "name": "stdout",
          "text": [
            "-----------------------------------------------------------------------------------------------\n"
          ]
        }
      ]
    },
    {
      "cell_type": "code",
      "metadata": {
        "colab": {
          "base_uri": "https://localhost:8080/",
          "height": 449
        },
        "id": "ztXkLi8DgcaM",
        "outputId": "642c1b61-4c0a-4fbe-f121-ccb95e146faa"
      },
      "source": [
        "fig, ax = plt.subplots(figsize=(8,6))\n",
        "sns.barplot(x=models,y=accuracies, palette=\"crest\");\n",
        "plt.ylabel(\"Model Accuracy Score\")\n",
        "plt.xticks(rotation=40)\n",
        "plt.title(\"Model Comparison - Model Accuracy score\");"
      ],
      "execution_count": null,
      "outputs": [
        {
          "output_type": "display_data",
          "data": {
            "image/png": "[encoded data removed]",
            "text/plain": [
              "<Figure size 576x432 with 1 Axes>"
            ]
          },
          "metadata": {
            "needs_background": "light"
          }
        }
      ]
    },
    {
      "cell_type": "markdown",
      "metadata": {
        "id": "gBCCCV6Dq7rO"
      },
      "source": [
        "Best performing models (based on accuracies)\n",
        "1. SVM\n",
        "2. Logistic Regression\n",
        "3. KNN\n",
        "4. Naive Bayes\n",
        "5. Random Forests\n",
        "6. K-Means, Decision trees\n",
        "7. Perceptron"
      ]
    },
    {
      "cell_type": "markdown",
      "metadata": {
        "id": "BypmwYl2tq8q"
      },
      "source": [
        "After analysing all the metrics we can conclude SVM is the best performing model.\n",
        "The ranking of the models taking all metrics into consideration: \n",
        "1. SVM\n",
        "2. Logistic Regression\n",
        "3. KNN\n",
        "4. Random Forests\n",
        "5. Naive Bayes\n",
        "6. K-Means, Decision trees\n",
        "7. Perceptron"
      ]
    },
    {
      "cell_type": "markdown",
      "metadata": {
        "id": "HurQrSicuzZj"
      },
      "source": [
        "--------------------------------------------------------------------------------------------------------------------"
      ]
    }
  ]
}